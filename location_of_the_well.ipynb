{
 "cells": [
  {
   "cell_type": "markdown",
   "metadata": {},
   "source": [
    "# Выбор локации для скважины"
   ]
  },
  {
   "cell_type": "markdown",
   "metadata": {},
   "source": [
    "Допустим, вы работаете в добывающей компании «ГлавРосГосНефть». Нужно решить, где бурить новую скважину.\n",
    "\n",
    "Вам предоставлены пробы нефти в трёх регионах: в каждом 10 000 месторождений, где измерили качество нефти и объём её запасов. Постройте модель машинного обучения, которая поможет определить регион, где добыча принесёт наибольшую прибыль. Проанализируйте возможную прибыль и риски техникой *Bootstrap.*\n",
    "\n",
    "Шаги для выбора локации:\n",
    "\n",
    "- В избранном регионе ищут месторождения, для каждого определяют значения признаков;\n",
    "- Строят модель и оценивают объём запасов;\n",
    "- Выбирают месторождения с самым высокими оценками значений. Количество месторождений зависит от бюджета компании и стоимости разработки одной скважины;\n",
    "- Прибыль равна суммарной прибыли отобранных месторождений."
   ]
  },
  {
   "cell_type": "markdown",
   "metadata": {},
   "source": [
    "## Загрузка и подготовка данных"
   ]
  },
  {
   "cell_type": "code",
   "execution_count": 1,
   "metadata": {},
   "outputs": [],
   "source": [
    "# импорт всех необходимых библиотек\n",
    "import pandas as pd\n",
    "from sklearn.linear_model import LinearRegression\n",
    "import numpy as np\n",
    "import seaborn as sns\n",
    "from sklearn.model_selection import train_test_split\n",
    "from sklearn.preprocessing import StandardScaler\n",
    "from sklearn.metrics import *\n",
    "from sklearn.model_selection import cross_val_score\n",
    "import matplotlib.pyplot as plt\n",
    "from scipy import stats as st"
   ]
  },
  {
   "cell_type": "code",
   "execution_count": 2,
   "metadata": {},
   "outputs": [],
   "source": [
    "# загрузка данных\n",
    "df1 = pd.read_csv('geo_data_0.csv')\n",
    "df2 = pd.read_csv('geo_data_1.csv')\n",
    "df3 = pd.read_csv('geo_data_2.csv')"
   ]
  },
  {
   "cell_type": "markdown",
   "metadata": {},
   "source": [
    "Получим основную информауию по каждому региону"
   ]
  },
  {
   "cell_type": "code",
   "execution_count": 3,
   "metadata": {
    "scrolled": false
   },
   "outputs": [
    {
     "name": "stdout",
     "output_type": "stream",
     "text": [
      "****************************************************************************************************\n",
      "\n",
      "регион 1 \n",
      "\n",
      "Данные\n"
     ]
    },
    {
     "data": {
      "text/html": [
       "<div>\n",
       "<style scoped>\n",
       "    .dataframe tbody tr th:only-of-type {\n",
       "        vertical-align: middle;\n",
       "    }\n",
       "\n",
       "    .dataframe tbody tr th {\n",
       "        vertical-align: top;\n",
       "    }\n",
       "\n",
       "    .dataframe thead th {\n",
       "        text-align: right;\n",
       "    }\n",
       "</style>\n",
       "<table border=\"1\" class=\"dataframe\">\n",
       "  <thead>\n",
       "    <tr style=\"text-align: right;\">\n",
       "      <th></th>\n",
       "      <th>id</th>\n",
       "      <th>f0</th>\n",
       "      <th>f1</th>\n",
       "      <th>f2</th>\n",
       "      <th>product</th>\n",
       "    </tr>\n",
       "  </thead>\n",
       "  <tbody>\n",
       "    <tr>\n",
       "      <th>0</th>\n",
       "      <td>txEyH</td>\n",
       "      <td>0.705745</td>\n",
       "      <td>-0.497823</td>\n",
       "      <td>1.221170</td>\n",
       "      <td>105.280062</td>\n",
       "    </tr>\n",
       "    <tr>\n",
       "      <th>1</th>\n",
       "      <td>2acmU</td>\n",
       "      <td>1.334711</td>\n",
       "      <td>-0.340164</td>\n",
       "      <td>4.365080</td>\n",
       "      <td>73.037750</td>\n",
       "    </tr>\n",
       "    <tr>\n",
       "      <th>2</th>\n",
       "      <td>409Wp</td>\n",
       "      <td>1.022732</td>\n",
       "      <td>0.151990</td>\n",
       "      <td>1.419926</td>\n",
       "      <td>85.265647</td>\n",
       "    </tr>\n",
       "  </tbody>\n",
       "</table>\n",
       "</div>"
      ],
      "text/plain": [
       "      id        f0        f1        f2     product\n",
       "0  txEyH  0.705745 -0.497823  1.221170  105.280062\n",
       "1  2acmU  1.334711 -0.340164  4.365080   73.037750\n",
       "2  409Wp  1.022732  0.151990  1.419926   85.265647"
      ]
     },
     "metadata": {},
     "output_type": "display_data"
    },
    {
     "name": "stdout",
     "output_type": "stream",
     "text": [
      "Информация\n",
      "\n",
      "<class 'pandas.core.frame.DataFrame'>\n",
      "RangeIndex: 100000 entries, 0 to 99999\n",
      "Data columns (total 5 columns):\n",
      " #   Column   Non-Null Count   Dtype  \n",
      "---  ------   --------------   -----  \n",
      " 0   id       100000 non-null  object \n",
      " 1   f0       100000 non-null  float64\n",
      " 2   f1       100000 non-null  float64\n",
      " 3   f2       100000 non-null  float64\n",
      " 4   product  100000 non-null  float64\n",
      "dtypes: float64(4), object(1)\n",
      "memory usage: 3.8+ MB\n",
      "None\n",
      "\n",
      "\n",
      "Описание\n",
      "\n",
      "                  f0             f1             f2        product\n",
      "count  100000.000000  100000.000000  100000.000000  100000.000000\n",
      "mean        0.500419       0.250143       2.502647      92.500000\n",
      "std         0.871832       0.504433       3.248248      44.288691\n",
      "min        -1.408605      -0.848218     -12.088328       0.000000\n",
      "25%        -0.072580      -0.200881       0.287748      56.497507\n",
      "50%         0.502360       0.250252       2.515969      91.849972\n",
      "75%         1.073581       0.700646       4.715088     128.564089\n",
      "max         2.362331       1.343769      16.003790     185.364347\n",
      "****************************************************************************************************\n",
      "****************************************************************************************************\n",
      "\n",
      "регион 2 \n",
      "\n",
      "Данные\n"
     ]
    },
    {
     "data": {
      "text/html": [
       "<div>\n",
       "<style scoped>\n",
       "    .dataframe tbody tr th:only-of-type {\n",
       "        vertical-align: middle;\n",
       "    }\n",
       "\n",
       "    .dataframe tbody tr th {\n",
       "        vertical-align: top;\n",
       "    }\n",
       "\n",
       "    .dataframe thead th {\n",
       "        text-align: right;\n",
       "    }\n",
       "</style>\n",
       "<table border=\"1\" class=\"dataframe\">\n",
       "  <thead>\n",
       "    <tr style=\"text-align: right;\">\n",
       "      <th></th>\n",
       "      <th>id</th>\n",
       "      <th>f0</th>\n",
       "      <th>f1</th>\n",
       "      <th>f2</th>\n",
       "      <th>product</th>\n",
       "    </tr>\n",
       "  </thead>\n",
       "  <tbody>\n",
       "    <tr>\n",
       "      <th>0</th>\n",
       "      <td>kBEdx</td>\n",
       "      <td>-15.001348</td>\n",
       "      <td>-8.276000</td>\n",
       "      <td>-0.005876</td>\n",
       "      <td>3.179103</td>\n",
       "    </tr>\n",
       "    <tr>\n",
       "      <th>1</th>\n",
       "      <td>62mP7</td>\n",
       "      <td>14.272088</td>\n",
       "      <td>-3.475083</td>\n",
       "      <td>0.999183</td>\n",
       "      <td>26.953261</td>\n",
       "    </tr>\n",
       "    <tr>\n",
       "      <th>2</th>\n",
       "      <td>vyE1P</td>\n",
       "      <td>6.263187</td>\n",
       "      <td>-5.948386</td>\n",
       "      <td>5.001160</td>\n",
       "      <td>134.766305</td>\n",
       "    </tr>\n",
       "  </tbody>\n",
       "</table>\n",
       "</div>"
      ],
      "text/plain": [
       "      id         f0        f1        f2     product\n",
       "0  kBEdx -15.001348 -8.276000 -0.005876    3.179103\n",
       "1  62mP7  14.272088 -3.475083  0.999183   26.953261\n",
       "2  vyE1P   6.263187 -5.948386  5.001160  134.766305"
      ]
     },
     "metadata": {},
     "output_type": "display_data"
    },
    {
     "name": "stdout",
     "output_type": "stream",
     "text": [
      "Информация\n",
      "\n",
      "<class 'pandas.core.frame.DataFrame'>\n",
      "RangeIndex: 100000 entries, 0 to 99999\n",
      "Data columns (total 5 columns):\n",
      " #   Column   Non-Null Count   Dtype  \n",
      "---  ------   --------------   -----  \n",
      " 0   id       100000 non-null  object \n",
      " 1   f0       100000 non-null  float64\n",
      " 2   f1       100000 non-null  float64\n",
      " 3   f2       100000 non-null  float64\n",
      " 4   product  100000 non-null  float64\n",
      "dtypes: float64(4), object(1)\n",
      "memory usage: 3.8+ MB\n",
      "None\n",
      "\n",
      "\n",
      "Описание\n",
      "\n",
      "                  f0             f1             f2        product\n",
      "count  100000.000000  100000.000000  100000.000000  100000.000000\n",
      "mean        1.141296      -4.796579       2.494541      68.825000\n",
      "std         8.965932       5.119872       1.703572      45.944423\n",
      "min       -31.609576     -26.358598      -0.018144       0.000000\n",
      "25%        -6.298551      -8.267985       1.000021      26.953261\n",
      "50%         1.153055      -4.813172       2.011479      57.085625\n",
      "75%         8.621015      -1.332816       3.999904     107.813044\n",
      "max        29.421755      18.734063       5.019721     137.945408\n",
      "****************************************************************************************************\n",
      "****************************************************************************************************\n",
      "\n",
      "регион 3 \n",
      "\n",
      "Данные\n"
     ]
    },
    {
     "data": {
      "text/html": [
       "<div>\n",
       "<style scoped>\n",
       "    .dataframe tbody tr th:only-of-type {\n",
       "        vertical-align: middle;\n",
       "    }\n",
       "\n",
       "    .dataframe tbody tr th {\n",
       "        vertical-align: top;\n",
       "    }\n",
       "\n",
       "    .dataframe thead th {\n",
       "        text-align: right;\n",
       "    }\n",
       "</style>\n",
       "<table border=\"1\" class=\"dataframe\">\n",
       "  <thead>\n",
       "    <tr style=\"text-align: right;\">\n",
       "      <th></th>\n",
       "      <th>id</th>\n",
       "      <th>f0</th>\n",
       "      <th>f1</th>\n",
       "      <th>f2</th>\n",
       "      <th>product</th>\n",
       "    </tr>\n",
       "  </thead>\n",
       "  <tbody>\n",
       "    <tr>\n",
       "      <th>0</th>\n",
       "      <td>fwXo0</td>\n",
       "      <td>-1.146987</td>\n",
       "      <td>0.963328</td>\n",
       "      <td>-0.828965</td>\n",
       "      <td>27.758673</td>\n",
       "    </tr>\n",
       "    <tr>\n",
       "      <th>1</th>\n",
       "      <td>WJtFt</td>\n",
       "      <td>0.262778</td>\n",
       "      <td>0.269839</td>\n",
       "      <td>-2.530187</td>\n",
       "      <td>56.069697</td>\n",
       "    </tr>\n",
       "    <tr>\n",
       "      <th>2</th>\n",
       "      <td>ovLUW</td>\n",
       "      <td>0.194587</td>\n",
       "      <td>0.289035</td>\n",
       "      <td>-5.586433</td>\n",
       "      <td>62.871910</td>\n",
       "    </tr>\n",
       "  </tbody>\n",
       "</table>\n",
       "</div>"
      ],
      "text/plain": [
       "      id        f0        f1        f2    product\n",
       "0  fwXo0 -1.146987  0.963328 -0.828965  27.758673\n",
       "1  WJtFt  0.262778  0.269839 -2.530187  56.069697\n",
       "2  ovLUW  0.194587  0.289035 -5.586433  62.871910"
      ]
     },
     "metadata": {},
     "output_type": "display_data"
    },
    {
     "name": "stdout",
     "output_type": "stream",
     "text": [
      "Информация\n",
      "\n",
      "<class 'pandas.core.frame.DataFrame'>\n",
      "RangeIndex: 100000 entries, 0 to 99999\n",
      "Data columns (total 5 columns):\n",
      " #   Column   Non-Null Count   Dtype  \n",
      "---  ------   --------------   -----  \n",
      " 0   id       100000 non-null  object \n",
      " 1   f0       100000 non-null  float64\n",
      " 2   f1       100000 non-null  float64\n",
      " 3   f2       100000 non-null  float64\n",
      " 4   product  100000 non-null  float64\n",
      "dtypes: float64(4), object(1)\n",
      "memory usage: 3.8+ MB\n",
      "None\n",
      "\n",
      "\n",
      "Описание\n",
      "\n",
      "                  f0             f1             f2        product\n",
      "count  100000.000000  100000.000000  100000.000000  100000.000000\n",
      "mean        0.002023      -0.002081       2.495128      95.000000\n",
      "std         1.732045       1.730417       3.473445      44.749921\n",
      "min        -8.760004      -7.084020     -11.970335       0.000000\n",
      "25%        -1.162288      -1.174820       0.130359      59.450441\n",
      "50%         0.009424      -0.009482       2.484236      94.925613\n",
      "75%         1.158535       1.163678       4.858794     130.595027\n",
      "max         7.238262       7.844801      16.739402     190.029838\n",
      "****************************************************************************************************\n"
     ]
    }
   ],
   "source": [
    "sl = [df1, df2, df3]\n",
    "def info(df, index):\n",
    "    print('****************************************************************************************************\\n')\n",
    "    print('регион', index, '\\n')\n",
    "    print('Данные')\n",
    "    display(df.head(3))\n",
    "    print('Информация\\n')\n",
    "    print(df.info())\n",
    "    print('\\n')\n",
    "    print('Описание\\n')\n",
    "    print(df.describe())\n",
    "    print('****************************************************************************************************')\n",
    "\n",
    "for i in range(len(sl)):\n",
    "    info(sl[i], i+1)"
   ]
  },
  {
   "cell_type": "code",
   "execution_count": 4,
   "metadata": {},
   "outputs": [
    {
     "data": {
      "image/png": "[encoded data removed]",
      "text/plain": [
       "<Figure size 720x432 with 1 Axes>"
      ]
     },
     "metadata": {
      "needs_background": "light"
     },
     "output_type": "display_data"
    }
   ],
   "source": [
    "fig, ax = plt.subplots(1, figsize = (10, 6))\n",
    "ax = df1['product'].plot(kind = 'hist', label = 'reg 1', alpha = 0.6, bins = 10, title = 'Распределение кол-ва баррелей')\n",
    "df2['product'].plot(ax = ax, kind = 'hist', label = 'reg 2', alpha = 0.6, bins = 10)\n",
    "df3['product'].plot(ax = ax, kind = 'hist', label = 'reg 3', alpha = 0.6, bins = 10)\n",
    "plt.xlabel('Кол-во баррелей тыс.')\n",
    "plt.ylabel('Частота')\n",
    "\n",
    "plt.legend();"
   ]
  },
  {
   "cell_type": "code",
   "execution_count": 5,
   "metadata": {},
   "outputs": [
    {
     "data": {
      "image/png": "[encoded data removed]",
      "text/plain": [
       "<Figure size 432x288 with 2 Axes>"
      ]
     },
     "metadata": {
      "needs_background": "light"
     },
     "output_type": "display_data"
    },
    {
     "data": {
      "image/png": "[encoded data removed]",
      "text/plain": [
       "<Figure size 432x288 with 2 Axes>"
      ]
     },
     "metadata": {
      "needs_background": "light"
     },
     "output_type": "display_data"
    },
    {
     "data": {
      "image/png": "[encoded data removed]",
      "text/plain": [
       "<Figure size 432x288 with 2 Axes>"
      ]
     },
     "metadata": {
      "needs_background": "light"
     },
     "output_type": "display_data"
    }
   ],
   "source": [
    "sns.heatmap(df1.corr(), annot = True)\n",
    "plt.show()\n",
    "sns.heatmap(df2.corr(), annot = True)\n",
    "plt.show()\n",
    "sns.heatmap(df3.corr(), annot = True)\n",
    "plt.show()"
   ]
  },
  {
   "cell_type": "markdown",
   "metadata": {},
   "source": [
    "# Вывод: \n",
    "Данные загружены, основаная информация о них получена, данные не требуют предобработки, пропусков и аномальных значенйи нет. Так же построены гистограммы распредлеения по целевомы признаку - количестов баррелей в скважине, заметим, что распредленеи во втором регионе сильно отличаается от 1 и 3, во втором наиболее часто встречаются значения стремящиеся в минимуму и максимуму. В первом и 3 регионе распредлееие похоже на нормальнео."
   ]
  },
  {
   "cell_type": "markdown",
   "metadata": {},
   "source": [
    "## Обучение и проверка модели"
   ]
  },
  {
   "cell_type": "markdown",
   "metadata": {},
   "source": [
    "Будем использовать модель линейной регрессии:"
   ]
  },
  {
   "cell_type": "code",
   "execution_count": 6,
   "metadata": {},
   "outputs": [],
   "source": [
    "model = LinearRegression()"
   ]
  },
  {
   "cell_type": "markdown",
   "metadata": {},
   "source": [
    "Функция для расчета значений rmse и среднего предсказанного значения"
   ]
  },
  {
   "cell_type": "code",
   "execution_count": 7,
   "metadata": {},
   "outputs": [],
   "source": [
    "def selection(features, target):\n",
    "    \n",
    "    features_train, features_valid, target_train, target_valid = train_test_split(\n",
    "    features, target, random_state = 99, test_size = 0.25) # разбиваем данные на валидационную и тренировочную выборки(25:75)\n",
    "    \n",
    "    scaler = StandardScaler() # стандартизируем данные\n",
    "    scaler.fit(features_train)\n",
    "    features_train = scaler.transform(features_train)\n",
    "    features_valid = scaler.transform(features_valid)\n",
    "    \n",
    "    model.fit(features_train, target_train) #обучение модели\n",
    "    predictions = model.predict(features_valid)\n",
    "    \n",
    "    rmse = mean_squared_error(target_valid, predictions, squared = False) # расчет квадратичной ошибки\n",
    "    mean_pred = predictions.mean() # расчет среднего\n",
    "    \n",
    "    return predictions, rmse, mean_pred, target_valid"
   ]
  },
  {
   "cell_type": "markdown",
   "metadata": {},
   "source": [
    "# Регион 1"
   ]
  },
  {
   "cell_type": "code",
   "execution_count": 8,
   "metadata": {},
   "outputs": [],
   "source": [
    "features1 = df1[['f0', 'f1', 'f2']]\n",
    "target1 = df1['product']\n",
    "predictions1, rmse1, mean_pred1, target_valid1 = selection(features1, target1)"
   ]
  },
  {
   "cell_type": "code",
   "execution_count": 9,
   "metadata": {},
   "outputs": [
    {
     "name": "stdout",
     "output_type": "stream",
     "text": [
      " rmse = 37.75859856040333 \n",
      " Предсказанное среднее = 92.54143347254964\n"
     ]
    }
   ],
   "source": [
    "print(' rmse =', rmse1, '\\n', 'Предсказанное среднее =', mean_pred1)"
   ]
  },
  {
   "cell_type": "markdown",
   "metadata": {},
   "source": [
    "# Регион 2"
   ]
  },
  {
   "cell_type": "code",
   "execution_count": 10,
   "metadata": {},
   "outputs": [],
   "source": [
    "features2 = df2[['f0', 'f1', 'f2']]\n",
    "target2 = df2['product']\n",
    "predictions2, rmse2, mean_pred2, target_valid2 = selection(features2, target2)"
   ]
  },
  {
   "cell_type": "code",
   "execution_count": 11,
   "metadata": {},
   "outputs": [
    {
     "name": "stdout",
     "output_type": "stream",
     "text": [
      " rmse = 0.8855582220133283 \n",
      " Предсказанное среднее = 68.91248625369201\n"
     ]
    }
   ],
   "source": [
    "print(' rmse =', rmse2, '\\n', 'Предсказанное среднее =', mean_pred2)"
   ]
  },
  {
   "cell_type": "markdown",
   "metadata": {},
   "source": [
    "# Регион 3"
   ]
  },
  {
   "cell_type": "code",
   "execution_count": 12,
   "metadata": {},
   "outputs": [],
   "source": [
    "features3 = df3[['f0', 'f1', 'f2']]\n",
    "target3 = df3['product']\n",
    "predictions3, rmse3, mean_pred3, target_valid3 = selection(features3, target3)"
   ]
  },
  {
   "cell_type": "code",
   "execution_count": 13,
   "metadata": {},
   "outputs": [
    {
     "name": "stdout",
     "output_type": "stream",
     "text": [
      " rmse = 39.743048019795516 \n",
      " Предсказанное среднее = 95.0105651471535\n"
     ]
    }
   ],
   "source": [
    "print(' rmse =', rmse3, '\\n', 'Предсказанное среднее =', mean_pred3)"
   ]
  },
  {
   "cell_type": "markdown",
   "metadata": {},
   "source": [
    "Оценим качество модели, то есть значения rmse с помощью кросс-валидации:"
   ]
  },
  {
   "cell_type": "code",
   "execution_count": 14,
   "metadata": {},
   "outputs": [],
   "source": [
    "def selection2(features, target):\n",
    "    model = LinearRegression()\n",
    "    scores = cross_val_score(\n",
    "        model, features, target, cv=4, scoring = 'neg_root_mean_squared_error')\n",
    "    return -scores.mean()\n",
    "    "
   ]
  },
  {
   "cell_type": "code",
   "execution_count": 15,
   "metadata": {},
   "outputs": [
    {
     "name": "stdout",
     "output_type": "stream",
     "text": [
      "rmse = 37.69416330930551\n"
     ]
    }
   ],
   "source": [
    "print('rmse =', selection2(features1, target1))"
   ]
  },
  {
   "cell_type": "code",
   "execution_count": 16,
   "metadata": {},
   "outputs": [
    {
     "name": "stdout",
     "output_type": "stream",
     "text": [
      "rmse = 0.8904041923531854\n"
     ]
    }
   ],
   "source": [
    "print('rmse =', selection2(features2, target2))"
   ]
  },
  {
   "cell_type": "code",
   "execution_count": 17,
   "metadata": {},
   "outputs": [
    {
     "name": "stdout",
     "output_type": "stream",
     "text": [
      "rmse = 40.05652390522354\n"
     ]
    }
   ],
   "source": [
    "print('rmse =', selection2(features3, target3))"
   ]
  },
  {
   "cell_type": "markdown",
   "metadata": {},
   "source": [
    "# Вывод: \n",
    "Для каждого региона были получены и сохранены предсказания на валидационной выборке, значение метрики rmse, предсказанное среднее значение, целевое значение валидационной выбокри. стоит обратить внимание на размер ошибки, в двух регионах она катастрофически большая - почти 40% от среднего запаса. И только в одном регионе она минимальная. Если посмотреть корреляцию между признаками и целевой переменной, можно понять почему в одном из регионов ошибка значительно меньше."
   ]
  },
  {
   "cell_type": "markdown",
   "metadata": {},
   "source": [
    "## Подготовка к расчёту прибыли"
   ]
  },
  {
   "cell_type": "markdown",
   "metadata": {},
   "source": [
    "Введем новые переменные"
   ]
  },
  {
   "cell_type": "code",
   "execution_count": 18,
   "metadata": {},
   "outputs": [],
   "source": [
    "budget = 10000000000 # бюджет на 200 скважин\n",
    "price_for_barrel = 450 # цена за 1 баррель\n",
    "prod1_mean = df1['product'].mean() # среднее 1 риога\n",
    "prod2_mean = df2['product'].mean() # среднее 2 региона\n",
    "prod3_mean = df3['product'].mean() # среденее 3 региона\n",
    "count = 200 # количестов скважин, которое мы будем выбирать"
   ]
  },
  {
   "cell_type": "code",
   "execution_count": 19,
   "metadata": {},
   "outputs": [
    {
     "name": "stdout",
     "output_type": "stream",
     "text": [
      "Cредний запас сырья в 1 регионе: 92.49999999999974 тыс.баррелей\n",
      "Cредний запас сырья в 2 регионе: 68.82500000002561 тыс.баррелей\n",
      "Cредний запас сырья в 3 регионе: 95.00000000000041 тыс.баррелей\n"
     ]
    }
   ],
   "source": [
    "print(f'Cредний запас сырья в 1 регионе: {prod1_mean} тыс.баррелей')\n",
    "print(f'Cредний запас сырья в 2 регионе: {prod2_mean} тыс.баррелей')\n",
    "print(f'Cредний запас сырья в 3 регионе: {prod3_mean} тыс.баррелей')"
   ]
  },
  {
   "cell_type": "markdown",
   "metadata": {},
   "source": [
    "Минимальное количество баррелей(в тысячах) для одной скважины для окупания вложений равно:"
   ]
  },
  {
   "cell_type": "code",
   "execution_count": 20,
   "metadata": {},
   "outputs": [
    {
     "name": "stdout",
     "output_type": "stream",
     "text": [
      "111.11111111111111 тыс.баррелей\n"
     ]
    }
   ],
   "source": [
    "print(budget / (price_for_barrel * 1000 * count), 'тыс.баррелей')"
   ]
  },
  {
   "cell_type": "markdown",
   "metadata": {},
   "source": [
    "ROI для каждого региона относительно среднего значения баррелей в процентах"
   ]
  },
  {
   "cell_type": "code",
   "execution_count": 21,
   "metadata": {},
   "outputs": [
    {
     "name": "stdout",
     "output_type": "stream",
     "text": [
      "Окупаемость равна  -16.750000000000227 %\n"
     ]
    }
   ],
   "source": [
    "print('Окупаемость равна ', (prod1_mean* price_for_barrel * count * 1000 - budget) / budget * 100, '%')"
   ]
  },
  {
   "cell_type": "code",
   "execution_count": 22,
   "metadata": {},
   "outputs": [
    {
     "name": "stdout",
     "output_type": "stream",
     "text": [
      "Окупаемость равна  -38.057499999976955 %\n"
     ]
    }
   ],
   "source": [
    "print('Окупаемость равна ', (prod2_mean* price_for_barrel * count * 1000 - budget) / budget * 100, '%')"
   ]
  },
  {
   "cell_type": "code",
   "execution_count": 23,
   "metadata": {},
   "outputs": [
    {
     "name": "stdout",
     "output_type": "stream",
     "text": [
      "Окупаемость равна  -14.499999999999627 %\n"
     ]
    }
   ],
   "source": [
    "print('Окупаемость равна ', (prod3_mean* price_for_barrel * count * 1000 - budget) / budget * 100, '%')"
   ]
  },
  {
   "cell_type": "markdown",
   "metadata": {},
   "source": [
    "# Вывод: \n",
    "Были добавлены все нужные значения, также показаны среднее количество сырья для каждого региона и минимальный объем скважины дял окупаемости. Как оказалось, ни в одном регионе не будет прибыли, если брать в расчет среднее значение количества сырья.\n"
   ]
  },
  {
   "cell_type": "markdown",
   "metadata": {},
   "source": [
    "## Расчёт прибыли и рисков "
   ]
  },
  {
   "cell_type": "markdown",
   "metadata": {},
   "source": [
    "###  Напишем функцию для подсчета прибыли"
   ]
  },
  {
   "cell_type": "raw",
   "metadata": {},
   "source": [
    "Выбераем скважины с максимальным значеним предсказаний и счтаем прибыль по данным валидационной выборки:"
   ]
  },
  {
   "cell_type": "code",
   "execution_count": 24,
   "metadata": {},
   "outputs": [],
   "source": [
    "def profit(predictions, target_valid, count, budget):\n",
    "    \n",
    "    predictions = pd.Series(predictions, index = target_valid.index)\n",
    "    max_oil_wells = predictions.sort_values(ascending = False)[:count] # выбираем лучшие 200 скважин\n",
    "    max_oil_wells = target_valid[max_oil_wells.index] # по индексам лучших предскаханных скважин, выбираем реальные значения\n",
    "    sum_vol = max_oil_wells.sum() # сумма в 200 лучших скважин выбранных по лучшим предсказаниям\n",
    "    profit = 450000 *sum_vol - budget #считаем прибыль\n",
    "    print('суммарный запас сырья в 200 лучших скважинах равен', sum_vol, 'тыс.баррелей')\n",
    "    print('прибыль от этих скважин равна', profit, 'рублей' )\n",
    "    #return profit"
   ]
  },
  {
   "cell_type": "markdown",
   "metadata": {},
   "source": [
    "Сумма целевого значения и значние прибыли для каждого региона по 200 лучшим скважинам  в тыс. баррелей:"
   ]
  },
  {
   "cell_type": "markdown",
   "metadata": {},
   "source": [
    "__Первый регион__"
   ]
  },
  {
   "cell_type": "code",
   "execution_count": 25,
   "metadata": {},
   "outputs": [
    {
     "name": "stdout",
     "output_type": "stream",
     "text": [
      "суммарный запас сырья в 200 лучших скважинах равен 29562.73334403467 тыс.баррелей\n",
      "прибыль от этих скважин равна 3303230004.8156013 рублей\n"
     ]
    }
   ],
   "source": [
    "profit(predictions1, target_valid1, count, budget)"
   ]
  },
  {
   "cell_type": "markdown",
   "metadata": {},
   "source": [
    "__Второй регион__"
   ]
  },
  {
   "cell_type": "code",
   "execution_count": 26,
   "metadata": {},
   "outputs": [
    {
     "name": "stdout",
     "output_type": "stream",
     "text": [
      "суммарный запас сырья в 200 лучших скважинах равен 27589.081548181137 тыс.баррелей\n",
      "прибыль от этих скважин равна 2415086696.681511 рублей\n"
     ]
    }
   ],
   "source": [
    "profit(predictions2, target_valid2, count, budget)"
   ]
  },
  {
   "cell_type": "markdown",
   "metadata": {},
   "source": [
    "__Третий регион__"
   ]
  },
  {
   "cell_type": "code",
   "execution_count": 27,
   "metadata": {},
   "outputs": [
    {
     "name": "stdout",
     "output_type": "stream",
     "text": [
      "суммарный запас сырья в 200 лучших скважинах равен 28157.952397101937 тыс.баррелей\n",
      "прибыль от этих скважин равна 2671078578.6958714 рублей\n"
     ]
    }
   ],
   "source": [
    "profit(predictions3, target_valid3, count, budget)"
   ]
  },
  {
   "cell_type": "markdown",
   "metadata": {},
   "source": [
    "### Посчитаем риски и прибыль для каждого региона"
   ]
  },
  {
   "cell_type": "markdown",
   "metadata": {},
   "source": [
    "Функция для вычисления прибыли, которую написали ранее:"
   ]
  },
  {
   "cell_type": "code",
   "execution_count": 28,
   "metadata": {},
   "outputs": [],
   "source": [
    "def revenue(predictions, target_valid, count, budget):\n",
    "    \n",
    "    max_oil_wells = predictions.sort_values(ascending = False)\n",
    "    max_oil_wells1 = target_valid[max_oil_wells.index][:count]\n",
    "  \n",
    "    sum_vol = max_oil_wells1.sum()\n",
    "    profit = 450000 *sum_vol - budget\n",
    "    \n",
    "    return profit / 1000000 # переведем в миллионы рублей"
   ]
  },
  {
   "cell_type": "markdown",
   "metadata": {},
   "source": [
    "Функция bootstrap, в которой мы вычисляем пибыль 200 лучших скважинах из 500, делая так 1000 раз, и из полученных данных строим распредление."
   ]
  },
  {
   "cell_type": "code",
   "execution_count": 29,
   "metadata": {},
   "outputs": [],
   "source": [
    "def bootstrap(predictions, target_valid, count, price_for_barrel, budget):\n",
    "    values = []\n",
    "    state = np.random.RandomState(99)\n",
    "    c = 0\n",
    "    predictions = pd.Series(predictions, index = target_valid.index)\n",
    "\n",
    "    for i in range(1000):\n",
    "        target_sample = target_valid.sample(n = 500,     # выбираем 500 скважин из региона\n",
    "                                    replace = True,\n",
    "                                    random_state = state)\n",
    "        pred_sample = predictions[target_sample.index]\n",
    "        profit = revenue(pred_sample, target_sample, count, budget)\n",
    "        values.append(profit)\n",
    "        \n",
    "        if profit < 0: # убытки\n",
    "            c += 1\n",
    "        \n",
    "        \n",
    "    values = pd.Series(values)\n",
    "    low_95 = values.quantile(0.025) # 2.5% квантиль\n",
    "    high_95 = values.quantile(0.975) # 97.5% квантиль\n",
    "    confidence_interval = st.t.interval(0.95,                                 # доверительный интервал для среднего\n",
    "                                            df = len(values) - 1,\n",
    "                                            loc = values.mean(), \n",
    "                                            scale = values.sem())\n",
    "    print('Среднее значение прибыли равно ', values.mean(), 'млн. руб. \\n')\n",
    "    print('Риск убытков ', 1. * c / 1000 * 100, '% \\n')\n",
    "    print('95% доверительный интервал в млн. руб. для среднего значения прибыли', confidence_interval, '\\n')\n",
    "    print('95% всех значений прибыли находится между',low_95,'млн.руб и', high_95,\"млн.руб.\")\n",
    "    \n",
    "    values.plot(kind = 'hist',                        # построение гистограммы распредлеения прибыли\n",
    "                title = \"Распределение прибыли\",\n",
    "                figsize = (10,6))\n",
    "    plt.axvline(low_95, color='red', linestyle='--', label='2.5% quantile')\n",
    "    plt.axvline(high_95, color='red', linestyle='--', label='97.5% quantile')\n",
    "    plt.axvline(values.mean(), color='green', linestyle='--', label='mean')\n",
    "    plt.xlabel('млн.руб.')\n",
    "    plt.ylabel('частота')\n",
    "    plt.legend(['2.5% quantile', '97.5% quantile', 'mean'])\n",
    "    plt.show()"
   ]
  },
  {
   "cell_type": "markdown",
   "metadata": {},
   "source": [
    "### Первый регион"
   ]
  },
  {
   "cell_type": "code",
   "execution_count": 30,
   "metadata": {
    "scrolled": false
   },
   "outputs": [
    {
     "name": "stdout",
     "output_type": "stream",
     "text": [
      "Среднее значение прибыли равно  469.51625645557766 млн. руб. \n",
      "\n",
      "Риск убытков  5.0 % \n",
      "\n",
      "95% доверительный интервал в млн. руб. для среднего значения прибыли (452.1210464068532, 486.9114665043021) \n",
      "\n",
      "95% всех значений прибыли находится между -84.89320765587091 млн.руб и 1014.368338181066 млн.руб.\n"
     ]
    },
    {
     "data": {
      "image/png": "[encoded data removed]",
      "text/plain": [
       "<Figure size 720x432 with 1 Axes>"
      ]
     },
     "metadata": {
      "needs_background": "light"
     },
     "output_type": "display_data"
    }
   ],
   "source": [
    "bootstrap(predictions1, target_valid1, count, price_for_barrel, budget)"
   ]
  },
  {
   "cell_type": "markdown",
   "metadata": {},
   "source": [
    "### Второй регион"
   ]
  },
  {
   "cell_type": "code",
   "execution_count": 31,
   "metadata": {},
   "outputs": [
    {
     "name": "stdout",
     "output_type": "stream",
     "text": [
      "Среднее значение прибыли равно  500.0950898231159 млн. руб. \n",
      "\n",
      "Риск убытков  0.6 % \n",
      "\n",
      "95% доверительный интервал в млн. руб. для среднего значения прибыли (487.3041955140063, 512.8859841322255) \n",
      "\n",
      "95% всех значений прибыли находится между 80.09563026653764 млн.руб и 905.8715001328502 млн.руб.\n"
     ]
    },
    {
     "data": {
      "image/png": "[encoded data removed]",
      "text/plain": [
       "<Figure size 720x432 with 1 Axes>"
      ]
     },
     "metadata": {
      "needs_background": "light"
     },
     "output_type": "display_data"
    }
   ],
   "source": [
    "bootstrap(predictions2, target_valid2, count, price_for_barrel, budget)"
   ]
  },
  {
   "cell_type": "markdown",
   "metadata": {},
   "source": [
    "### Третий регион"
   ]
  },
  {
   "cell_type": "code",
   "execution_count": 32,
   "metadata": {},
   "outputs": [
    {
     "name": "stdout",
     "output_type": "stream",
     "text": [
      "Среднее значение прибыли равно  439.25742094310084 млн. руб. \n",
      "\n",
      "Риск убытков  6.0 % \n",
      "\n",
      "95% доверительный интервал в млн. руб. для среднего значения прибыли (422.2357688795585, 456.27907300664316) \n",
      "\n",
      "95% всех значений прибыли находится между -121.39267009034647 млн.руб и 971.3795842534691 млн.руб.\n"
     ]
    },
    {
     "data": {
      "image/png": "[encoded data removed]",
      "text/plain": [
       "<Figure size 720x432 with 1 Axes>"
      ]
     },
     "metadata": {
      "needs_background": "light"
     },
     "output_type": "display_data"
    }
   ],
   "source": [
    "bootstrap(predictions3, target_valid3, count, price_for_barrel, budget)"
   ]
  },
  {
   "cell_type": "markdown",
   "metadata": {},
   "source": [
    "Исходя из данных, я бы преложил выбрать второй регион, так как только в нем шанс убытков меньше 2.5%. \n",
    "\n",
    "Доверительный интервал в 95% указывает на то, что средняя прибыль будет находиться в интервале между 487.3 млн.руб и 512.9 млн.руб.\n",
    "\n",
    "Значение квантилей указывают на то, что 95% вероятности прибыли лежит в диапазоне от 80.1 млн.руб до 905.9 млн.руб.\n",
    "\n",
    "Риск убытков составляет только 0.6%, что означает, что вероятность получения убытков очень мала.\n",
    "\n",
    "Таким образом, выбор региона с шансом убытков менее 2.5% является разумным, учитывая, что средняя прибыль составляет более 500 млн.руб и вероятность получения убытков составляет всего 0.6%."
   ]
  },
  {
   "cell_type": "markdown",
   "metadata": {},
   "source": [
    "# Выводы: \n",
    "\n",
    "\n",
    "После того, как вы построили модель и провели расчеты, можно сделать следующие выводы:\n",
    "\n",
    "__1. Данные по трем регионам были загружены и подготвлены.__\n",
    "\n",
    "\n",
    "__2. Была обучена линейная модель для каждого региона, и по результатам тестирования были получены средние значения RMSE и средних запасов предсказанного сырья:__\n",
    "\n",
    "* Регион 1: RMSE = 37.758, Средний запас предсказанного сырья = 92.541 тыс. баррелей\n",
    "\n",
    "* Регион 2: RMSE =  0.885, Средний запас предсказанного сырья = 68.912 тыс. баррелей\n",
    "\n",
    "* Регион 3: RMSE = 39.743, Средний запас предсказанного сырья = 95.01 тыс. баррелей\n",
    "\n",
    "__3. Были расчитаны объемы сырья, необходимые для безубыточной разработки новой скважины, и сравнены со средними запасами предсказанного сырья для каждого региона:__\n",
    "\n",
    "\n",
    "__Средний запас в каждом регионе:__\n",
    "\n",
    "\n",
    "* Cредний запас сырья в 1 регионе: 92.5 тыс.баррелей\n",
    "\n",
    "* Cредний запас сырья в 2 регионе: 68.825 тыс.баррелей\n",
    "\n",
    "* Cредний запас сырья в 3 регионе: 95 тыс.баррелей\n",
    "\n",
    "__Минимальное количество баррелей для безубыточной разработки равно 111.11 тыс. быррелей__\n",
    "\n",
    "\n",
    "__4. Была написана функция для расчета прибыли по выбранным скважинам и предсказаниям модели.__\n",
    "\n",
    "\n",
    "__5. Были проведены расчеты рисков и прибыли для каждого региона с помощью техники Bootstrap и получены следующие результаты:__\n",
    "\n",
    "__Регион 1:__\n",
    "\n",
    "- средняя прибыль = Среднее значение прибыли равно  469.516 млн. руб. \n",
    "- Риск убытков  5.0 % \n",
    "- 95% доверительный интервал в млн. руб. (452.121, 486.911) \n",
    "- Значение квантилей для 95 процентного интервала -84.893 млн.руб и  1014.368 млн.руб.\n",
    "\n",
    "__Регион 2:__\n",
    "- Среднее значение прибыли равно  500.0953 млн. руб. \n",
    "- Риск убытков  0.6 % \n",
    "- 95% доверительный интервал в млн. руб. (487.304, 512.885) \n",
    "- Значение квантилей для 95 процентного интервала 80.09563026653764 млн.руб и  905.8715001328502 млн.руб.\n",
    "\n",
    "__Регион 3:__\n",
    "- Среднее значение прибыли равно  439.2574209431004 млн. руб. \n",
    "- Риск убытков  6.0 % \n",
    "- 95% доверительный интервал в млн. руб. (422.235, 456.279)  \n",
    "- Значение квантилей для 95 процентного интервала -121.392 млн.руб и  971.379 млн.руб.\n",
    "\n",
    "__6. Таким образом, можно рекомендовать для разработки скважин регион 2, так как он единсвтенный имеет значение шанса убытков меньше 2.5 процентов__"
   ]
  },
  {
   "cell_type": "code",
   "execution_count": null,
   "metadata": {},
   "outputs": [],
   "source": []
  }
 ],
 "metadata": {
  "ExecuteTimeLog": [
   {
    "duration": 52,
    "start_time": "2023-03-09T15:18:15.496Z"
   },
   {
    "duration": 7,
    "start_time": "2023-03-09T15:18:19.102Z"
   },
   {
    "duration": 7,
    "start_time": "2023-03-09T15:18:24.989Z"
   },
   {
    "duration": 520,
    "start_time": "2023-03-09T15:19:28.294Z"
   },
   {
    "duration": 13,
    "start_time": "2023-03-09T15:19:34.601Z"
   },
   {
    "duration": 1361,
    "start_time": "2023-03-09T15:19:39.700Z"
   },
   {
    "duration": 954,
    "start_time": "2023-03-09T15:19:43.342Z"
   },
   {
    "duration": 19,
    "start_time": "2023-03-09T15:19:44.934Z"
   },
   {
    "duration": 62,
    "start_time": "2023-03-09T15:20:44.318Z"
   },
   {
    "duration": 46,
    "start_time": "2023-03-09T15:20:50.429Z"
   },
   {
    "duration": 52,
    "start_time": "2023-03-09T15:20:59.099Z"
   },
   {
    "duration": 72,
    "start_time": "2023-03-09T15:21:13.051Z"
   },
   {
    "duration": 10,
    "start_time": "2023-03-09T15:45:37.389Z"
   },
   {
    "duration": 4,
    "start_time": "2023-03-09T15:45:45.036Z"
   },
   {
    "duration": 29,
    "start_time": "2023-03-09T15:45:49.422Z"
   },
   {
    "duration": 3,
    "start_time": "2023-03-09T15:45:55.360Z"
   },
   {
    "duration": 4,
    "start_time": "2023-03-09T15:45:56.795Z"
   },
   {
    "duration": 16,
    "start_time": "2023-03-09T15:46:05.452Z"
   },
   {
    "duration": 31,
    "start_time": "2023-03-09T15:46:16.566Z"
   },
   {
    "duration": 4,
    "start_time": "2023-03-09T15:46:42.071Z"
   },
   {
    "duration": 37,
    "start_time": "2023-03-09T15:46:45.009Z"
   },
   {
    "duration": 6,
    "start_time": "2023-03-09T15:46:58.399Z"
   },
   {
    "duration": 39,
    "start_time": "2023-03-09T15:46:59.694Z"
   },
   {
    "duration": 4,
    "start_time": "2023-03-09T15:47:10.366Z"
   },
   {
    "duration": 15,
    "start_time": "2023-03-09T15:47:11.797Z"
   },
   {
    "duration": 4,
    "start_time": "2023-03-09T15:47:23.026Z"
   },
   {
    "duration": 51,
    "start_time": "2023-03-09T15:47:23.935Z"
   },
   {
    "duration": 4,
    "start_time": "2023-03-09T15:47:39.305Z"
   },
   {
    "duration": 32,
    "start_time": "2023-03-09T15:47:40.361Z"
   },
   {
    "duration": 5,
    "start_time": "2023-03-09T15:47:58.661Z"
   },
   {
    "duration": 94,
    "start_time": "2023-03-09T15:47:59.614Z"
   },
   {
    "duration": 5,
    "start_time": "2023-03-09T15:48:01.087Z"
   },
   {
    "duration": 4,
    "start_time": "2023-03-09T15:48:13.986Z"
   },
   {
    "duration": 5,
    "start_time": "2023-03-09T15:48:29.888Z"
   },
   {
    "duration": 5,
    "start_time": "2023-03-09T15:48:42.627Z"
   },
   {
    "duration": 6,
    "start_time": "2023-03-09T15:48:46.142Z"
   },
   {
    "duration": 5,
    "start_time": "2023-03-09T15:48:59.859Z"
   },
   {
    "duration": 4,
    "start_time": "2023-03-09T15:49:13.261Z"
   },
   {
    "duration": 183,
    "start_time": "2023-03-09T15:49:41.219Z"
   },
   {
    "duration": 4,
    "start_time": "2023-03-09T15:49:41.556Z"
   },
   {
    "duration": 95,
    "start_time": "2023-03-09T15:49:45.008Z"
   },
   {
    "duration": 4,
    "start_time": "2023-03-09T15:49:45.284Z"
   },
   {
    "duration": 12,
    "start_time": "2023-03-09T15:49:46.438Z"
   },
   {
    "duration": 36,
    "start_time": "2023-03-09T15:50:06.347Z"
   },
   {
    "duration": 4,
    "start_time": "2023-03-09T15:50:07.135Z"
   },
   {
    "duration": 26,
    "start_time": "2023-03-09T15:50:15.632Z"
   },
   {
    "duration": 5,
    "start_time": "2023-03-09T15:50:15.964Z"
   },
   {
    "duration": 32,
    "start_time": "2023-03-09T15:50:32.363Z"
   },
   {
    "duration": 4,
    "start_time": "2023-03-09T15:50:33.606Z"
   },
   {
    "duration": 4,
    "start_time": "2023-03-09T15:50:43.183Z"
   },
   {
    "duration": 366,
    "start_time": "2023-03-09T15:50:43.189Z"
   },
   {
    "duration": 62,
    "start_time": "2023-03-09T15:50:43.557Z"
   },
   {
    "duration": 2,
    "start_time": "2023-03-09T15:50:43.621Z"
   },
   {
    "duration": 7,
    "start_time": "2023-03-09T15:50:43.625Z"
   },
   {
    "duration": 69,
    "start_time": "2023-03-09T15:50:43.634Z"
   },
   {
    "duration": 6,
    "start_time": "2023-03-09T15:50:43.704Z"
   },
   {
    "duration": 122,
    "start_time": "2023-03-09T15:50:43.711Z"
   },
   {
    "duration": 71,
    "start_time": "2023-03-09T15:50:43.836Z"
   },
   {
    "duration": 119,
    "start_time": "2023-03-09T15:50:43.909Z"
   },
   {
    "duration": 6,
    "start_time": "2023-03-09T15:50:44.101Z"
   },
   {
    "duration": 3,
    "start_time": "2023-03-09T15:58:12.318Z"
   },
   {
    "duration": 4,
    "start_time": "2023-03-09T15:58:14.021Z"
   },
   {
    "duration": 4,
    "start_time": "2023-03-09T15:58:15.460Z"
   },
   {
    "duration": 4,
    "start_time": "2023-03-09T15:59:02.689Z"
   },
   {
    "duration": 417,
    "start_time": "2023-03-09T15:59:02.695Z"
   },
   {
    "duration": 59,
    "start_time": "2023-03-09T15:59:03.114Z"
   },
   {
    "duration": 3,
    "start_time": "2023-03-09T15:59:03.202Z"
   },
   {
    "duration": 26,
    "start_time": "2023-03-09T15:59:03.207Z"
   },
   {
    "duration": 53,
    "start_time": "2023-03-09T15:59:03.235Z"
   },
   {
    "duration": 15,
    "start_time": "2023-03-09T15:59:03.290Z"
   },
   {
    "duration": 226,
    "start_time": "2023-03-09T15:59:03.306Z"
   },
   {
    "duration": 70,
    "start_time": "2023-03-09T15:59:03.534Z"
   },
   {
    "duration": 129,
    "start_time": "2023-03-09T15:59:03.607Z"
   },
   {
    "duration": 166,
    "start_time": "2023-03-09T15:59:03.738Z"
   },
   {
    "duration": 3,
    "start_time": "2023-03-09T16:18:28.801Z"
   },
   {
    "duration": 372,
    "start_time": "2023-03-09T16:18:28.806Z"
   },
   {
    "duration": 66,
    "start_time": "2023-03-09T16:18:29.179Z"
   },
   {
    "duration": 2,
    "start_time": "2023-03-09T16:18:29.247Z"
   },
   {
    "duration": 6,
    "start_time": "2023-03-09T16:18:29.251Z"
   },
   {
    "duration": 48,
    "start_time": "2023-03-09T16:18:29.258Z"
   },
   {
    "duration": 5,
    "start_time": "2023-03-09T16:18:29.308Z"
   },
   {
    "duration": 212,
    "start_time": "2023-03-09T16:18:29.315Z"
   },
   {
    "duration": 73,
    "start_time": "2023-03-09T16:18:29.530Z"
   },
   {
    "duration": 121,
    "start_time": "2023-03-09T16:18:29.607Z"
   },
   {
    "duration": 71,
    "start_time": "2023-03-09T16:18:29.733Z"
   },
   {
    "duration": 133,
    "start_time": "2023-03-09T16:18:29.806Z"
   },
   {
    "duration": 0,
    "start_time": "2023-03-09T16:18:29.941Z"
   },
   {
    "duration": 0,
    "start_time": "2023-03-09T16:18:29.943Z"
   },
   {
    "duration": 0,
    "start_time": "2023-03-09T16:18:29.944Z"
   },
   {
    "duration": 4,
    "start_time": "2023-03-09T16:19:07.036Z"
   },
   {
    "duration": 394,
    "start_time": "2023-03-09T16:19:08.612Z"
   },
   {
    "duration": 256,
    "start_time": "2023-03-09T16:19:09.649Z"
   },
   {
    "duration": 278,
    "start_time": "2023-03-09T16:19:10.332Z"
   },
   {
    "duration": 3,
    "start_time": "2023-03-09T16:19:55.011Z"
   },
   {
    "duration": 20,
    "start_time": "2023-03-09T16:19:56.400Z"
   },
   {
    "duration": 10,
    "start_time": "2023-03-09T16:20:18.742Z"
   },
   {
    "duration": 5,
    "start_time": "2023-03-09T16:20:30.725Z"
   },
   {
    "duration": 3,
    "start_time": "2023-03-09T16:22:22.323Z"
   },
   {
    "duration": 411,
    "start_time": "2023-03-09T16:22:24.294Z"
   },
   {
    "duration": 318,
    "start_time": "2023-03-09T16:22:28.787Z"
   },
   {
    "duration": 600,
    "start_time": "2023-03-09T16:22:29.202Z"
   },
   {
    "duration": 5,
    "start_time": "2023-03-09T16:34:18.407Z"
   },
   {
    "duration": 440,
    "start_time": "2023-03-09T16:34:18.415Z"
   },
   {
    "duration": 64,
    "start_time": "2023-03-09T16:34:18.857Z"
   },
   {
    "duration": 2,
    "start_time": "2023-03-09T16:34:18.924Z"
   },
   {
    "duration": 14,
    "start_time": "2023-03-09T16:34:18.928Z"
   },
   {
    "duration": 32,
    "start_time": "2023-03-09T16:34:18.944Z"
   },
   {
    "duration": 4,
    "start_time": "2023-03-09T16:34:18.978Z"
   },
   {
    "duration": 22,
    "start_time": "2023-03-09T16:34:18.984Z"
   },
   {
    "duration": 4,
    "start_time": "2023-03-09T16:34:19.009Z"
   },
   {
    "duration": 19,
    "start_time": "2023-03-09T16:34:19.014Z"
   },
   {
    "duration": 3,
    "start_time": "2023-03-09T16:34:19.035Z"
   },
   {
    "duration": 6,
    "start_time": "2023-03-09T16:34:19.040Z"
   },
   {
    "duration": 23,
    "start_time": "2023-03-09T16:34:19.048Z"
   },
   {
    "duration": 52,
    "start_time": "2023-03-09T16:34:19.072Z"
   },
   {
    "duration": 23,
    "start_time": "2023-03-09T16:34:19.126Z"
   },
   {
    "duration": 4,
    "start_time": "2023-03-09T16:35:06.810Z"
   },
   {
    "duration": 26,
    "start_time": "2023-03-09T16:35:07.591Z"
   },
   {
    "duration": 4,
    "start_time": "2023-03-09T16:35:27.909Z"
   },
   {
    "duration": 24,
    "start_time": "2023-03-09T16:35:29.940Z"
   },
   {
    "duration": 4,
    "start_time": "2023-03-09T19:51:06.138Z"
   },
   {
    "duration": 529,
    "start_time": "2023-03-09T19:51:06.144Z"
   },
   {
    "duration": 57,
    "start_time": "2023-03-09T19:51:06.675Z"
   },
   {
    "duration": 3,
    "start_time": "2023-03-09T19:51:06.733Z"
   },
   {
    "duration": 7,
    "start_time": "2023-03-09T19:51:06.738Z"
   },
   {
    "duration": 23,
    "start_time": "2023-03-09T19:51:06.746Z"
   },
   {
    "duration": 4,
    "start_time": "2023-03-09T19:51:06.771Z"
   },
   {
    "duration": 36,
    "start_time": "2023-03-09T19:51:06.776Z"
   },
   {
    "duration": 4,
    "start_time": "2023-03-09T19:51:06.814Z"
   },
   {
    "duration": 17,
    "start_time": "2023-03-09T19:51:06.820Z"
   },
   {
    "duration": 3,
    "start_time": "2023-03-09T19:51:06.839Z"
   },
   {
    "duration": 7,
    "start_time": "2023-03-09T19:51:06.844Z"
   },
   {
    "duration": 24,
    "start_time": "2023-03-09T19:51:06.853Z"
   },
   {
    "duration": 44,
    "start_time": "2023-03-09T19:51:06.879Z"
   },
   {
    "duration": 20,
    "start_time": "2023-03-09T19:51:06.925Z"
   },
   {
    "duration": 13,
    "start_time": "2023-03-09T19:55:36.095Z"
   },
   {
    "duration": 12,
    "start_time": "2023-03-09T19:59:18.420Z"
   },
   {
    "duration": 3,
    "start_time": "2023-03-09T19:59:28.014Z"
   },
   {
    "duration": 380,
    "start_time": "2023-03-09T19:59:28.019Z"
   },
   {
    "duration": 71,
    "start_time": "2023-03-09T19:59:28.403Z"
   },
   {
    "duration": 35,
    "start_time": "2023-03-09T19:59:28.477Z"
   },
   {
    "duration": 0,
    "start_time": "2023-03-09T19:59:28.515Z"
   },
   {
    "duration": 0,
    "start_time": "2023-03-09T19:59:28.516Z"
   },
   {
    "duration": 0,
    "start_time": "2023-03-09T19:59:28.518Z"
   },
   {
    "duration": 0,
    "start_time": "2023-03-09T19:59:28.520Z"
   },
   {
    "duration": 0,
    "start_time": "2023-03-09T19:59:28.521Z"
   },
   {
    "duration": 0,
    "start_time": "2023-03-09T19:59:28.522Z"
   },
   {
    "duration": 0,
    "start_time": "2023-03-09T19:59:28.523Z"
   },
   {
    "duration": 0,
    "start_time": "2023-03-09T19:59:28.525Z"
   },
   {
    "duration": 0,
    "start_time": "2023-03-09T19:59:28.526Z"
   },
   {
    "duration": 0,
    "start_time": "2023-03-09T19:59:28.528Z"
   },
   {
    "duration": 0,
    "start_time": "2023-03-09T19:59:28.530Z"
   },
   {
    "duration": 0,
    "start_time": "2023-03-09T19:59:28.530Z"
   },
   {
    "duration": 0,
    "start_time": "2023-03-09T19:59:28.531Z"
   },
   {
    "duration": 0,
    "start_time": "2023-03-09T19:59:28.533Z"
   },
   {
    "duration": 0,
    "start_time": "2023-03-09T19:59:28.534Z"
   },
   {
    "duration": 4,
    "start_time": "2023-03-09T20:00:50.316Z"
   },
   {
    "duration": 387,
    "start_time": "2023-03-09T20:00:50.323Z"
   },
   {
    "duration": 57,
    "start_time": "2023-03-09T20:00:50.712Z"
   },
   {
    "duration": 37,
    "start_time": "2023-03-09T20:00:50.771Z"
   },
   {
    "duration": 3,
    "start_time": "2023-03-09T20:00:50.811Z"
   },
   {
    "duration": 10,
    "start_time": "2023-03-09T20:00:50.816Z"
   },
   {
    "duration": 25,
    "start_time": "2023-03-09T20:00:50.828Z"
   },
   {
    "duration": 4,
    "start_time": "2023-03-09T20:00:50.855Z"
   },
   {
    "duration": 18,
    "start_time": "2023-03-09T20:00:50.861Z"
   },
   {
    "duration": 5,
    "start_time": "2023-03-09T20:00:50.881Z"
   },
   {
    "duration": 29,
    "start_time": "2023-03-09T20:00:50.887Z"
   },
   {
    "duration": 20,
    "start_time": "2023-03-09T20:00:50.917Z"
   },
   {
    "duration": 12,
    "start_time": "2023-03-09T20:00:50.939Z"
   },
   {
    "duration": 37,
    "start_time": "2023-03-09T20:00:50.953Z"
   },
   {
    "duration": 45,
    "start_time": "2023-03-09T20:00:50.992Z"
   },
   {
    "duration": 25,
    "start_time": "2023-03-09T20:00:51.039Z"
   },
   {
    "duration": 12,
    "start_time": "2023-03-09T20:00:51.065Z"
   },
   {
    "duration": 6,
    "start_time": "2023-03-09T20:00:51.078Z"
   },
   {
    "duration": 102,
    "start_time": "2023-03-09T20:00:51.086Z"
   },
   {
    "duration": 4,
    "start_time": "2023-03-09T20:01:10.793Z"
   },
   {
    "duration": 392,
    "start_time": "2023-03-09T20:01:10.800Z"
   },
   {
    "duration": 54,
    "start_time": "2023-03-09T20:01:11.194Z"
   },
   {
    "duration": 2,
    "start_time": "2023-03-09T20:01:11.250Z"
   },
   {
    "duration": 5,
    "start_time": "2023-03-09T20:01:11.255Z"
   },
   {
    "duration": 41,
    "start_time": "2023-03-09T20:01:11.262Z"
   },
   {
    "duration": 4,
    "start_time": "2023-03-09T20:01:11.305Z"
   },
   {
    "duration": 17,
    "start_time": "2023-03-09T20:01:11.310Z"
   },
   {
    "duration": 4,
    "start_time": "2023-03-09T20:01:11.329Z"
   },
   {
    "duration": 16,
    "start_time": "2023-03-09T20:01:11.335Z"
   },
   {
    "duration": 4,
    "start_time": "2023-03-09T20:01:11.353Z"
   },
   {
    "duration": 11,
    "start_time": "2023-03-09T20:01:11.359Z"
   },
   {
    "duration": 48,
    "start_time": "2023-03-09T20:01:11.372Z"
   },
   {
    "duration": 24,
    "start_time": "2023-03-09T20:01:11.423Z"
   },
   {
    "duration": 22,
    "start_time": "2023-03-09T20:01:11.448Z"
   },
   {
    "duration": 13,
    "start_time": "2023-03-09T20:01:11.502Z"
   },
   {
    "duration": 4,
    "start_time": "2023-03-09T20:01:11.517Z"
   },
   {
    "duration": 77,
    "start_time": "2023-03-09T20:01:11.523Z"
   },
   {
    "duration": 9,
    "start_time": "2023-03-09T20:03:42.376Z"
   },
   {
    "duration": 4,
    "start_time": "2023-03-09T20:03:56.583Z"
   },
   {
    "duration": 4,
    "start_time": "2023-03-09T20:04:21.592Z"
   },
   {
    "duration": 4,
    "start_time": "2023-03-09T20:13:46.129Z"
   },
   {
    "duration": 122,
    "start_time": "2023-03-09T20:17:22.297Z"
   },
   {
    "duration": 114,
    "start_time": "2023-03-09T20:18:03.845Z"
   },
   {
    "duration": 130,
    "start_time": "2023-03-09T20:18:30.688Z"
   },
   {
    "duration": 142,
    "start_time": "2023-03-09T20:18:56.532Z"
   },
   {
    "duration": 450,
    "start_time": "2023-03-09T20:19:32.218Z"
   },
   {
    "duration": 35608,
    "start_time": "2023-03-09T20:19:49.430Z"
   },
   {
    "duration": 134,
    "start_time": "2023-03-09T20:20:28.510Z"
   },
   {
    "duration": 11,
    "start_time": "2023-03-09T20:20:37.121Z"
   },
   {
    "duration": 732,
    "start_time": "2023-03-09T20:21:01.037Z"
   },
   {
    "duration": 235,
    "start_time": "2023-03-09T20:22:10.863Z"
   },
   {
    "duration": 6,
    "start_time": "2023-03-09T20:22:30.848Z"
   },
   {
    "duration": 16,
    "start_time": "2023-03-09T20:23:05.339Z"
   },
   {
    "duration": 13,
    "start_time": "2023-03-09T20:23:50.192Z"
   },
   {
    "duration": 13,
    "start_time": "2023-03-09T20:24:19.996Z"
   },
   {
    "duration": 13,
    "start_time": "2023-03-09T20:25:11.274Z"
   },
   {
    "duration": 12,
    "start_time": "2023-03-09T20:25:35.748Z"
   },
   {
    "duration": 14,
    "start_time": "2023-03-09T20:25:44.161Z"
   },
   {
    "duration": 112,
    "start_time": "2023-03-09T20:27:15.163Z"
   },
   {
    "duration": 116,
    "start_time": "2023-03-09T20:28:01.862Z"
   },
   {
    "duration": 113,
    "start_time": "2023-03-09T20:29:17.168Z"
   },
   {
    "duration": 104,
    "start_time": "2023-03-09T20:29:58.108Z"
   },
   {
    "duration": 316,
    "start_time": "2023-03-09T20:30:10.988Z"
   },
   {
    "duration": 179,
    "start_time": "2023-03-09T20:30:36.762Z"
   },
   {
    "duration": 163,
    "start_time": "2023-03-09T20:30:56.567Z"
   },
   {
    "duration": 160,
    "start_time": "2023-03-09T20:31:14.264Z"
   },
   {
    "duration": 179,
    "start_time": "2023-03-09T20:31:30.640Z"
   },
   {
    "duration": 200,
    "start_time": "2023-03-09T20:32:10.142Z"
   },
   {
    "duration": 212,
    "start_time": "2023-03-09T20:32:25.980Z"
   },
   {
    "duration": 88,
    "start_time": "2023-03-09T20:32:40.707Z"
   },
   {
    "duration": 269,
    "start_time": "2023-03-09T20:32:46.191Z"
   },
   {
    "duration": 231,
    "start_time": "2023-03-09T20:32:53.024Z"
   },
   {
    "duration": 239,
    "start_time": "2023-03-09T20:32:56.884Z"
   },
   {
    "duration": 271,
    "start_time": "2023-03-09T20:33:04.035Z"
   },
   {
    "duration": 332,
    "start_time": "2023-03-09T20:33:07.136Z"
   },
   {
    "duration": 232,
    "start_time": "2023-03-09T20:34:02.166Z"
   },
   {
    "duration": 227,
    "start_time": "2023-03-09T20:34:26.169Z"
   },
   {
    "duration": 218,
    "start_time": "2023-03-09T20:34:39.126Z"
   },
   {
    "duration": 264,
    "start_time": "2023-03-09T20:35:43.882Z"
   },
   {
    "duration": 279,
    "start_time": "2023-03-09T20:36:08.946Z"
   },
   {
    "duration": 364,
    "start_time": "2023-03-09T20:36:38.063Z"
   },
   {
    "duration": 276,
    "start_time": "2023-03-09T20:36:48.563Z"
   },
   {
    "duration": 339,
    "start_time": "2023-03-09T20:37:04.521Z"
   },
   {
    "duration": 388,
    "start_time": "2023-03-09T20:37:12.074Z"
   },
   {
    "duration": 271,
    "start_time": "2023-03-09T20:38:32.733Z"
   },
   {
    "duration": 262,
    "start_time": "2023-03-09T20:38:54.474Z"
   },
   {
    "duration": 286,
    "start_time": "2023-03-09T20:38:58.285Z"
   },
   {
    "duration": 287,
    "start_time": "2023-03-09T20:39:00.276Z"
   },
   {
    "duration": 268,
    "start_time": "2023-03-09T20:39:03.414Z"
   },
   {
    "duration": 263,
    "start_time": "2023-03-09T20:39:07.231Z"
   },
   {
    "duration": 273,
    "start_time": "2023-03-09T20:39:11.907Z"
   },
   {
    "duration": 10,
    "start_time": "2023-03-09T20:40:32.969Z"
   },
   {
    "duration": 46,
    "start_time": "2023-03-09T20:40:37.808Z"
   },
   {
    "duration": 3,
    "start_time": "2023-03-09T20:45:52.980Z"
   },
   {
    "duration": 353,
    "start_time": "2023-03-09T20:45:52.986Z"
   },
   {
    "duration": 146,
    "start_time": "2023-03-09T20:45:53.341Z"
   },
   {
    "duration": 276,
    "start_time": "2023-03-09T20:45:53.501Z"
   },
   {
    "duration": 3,
    "start_time": "2023-03-09T20:45:53.779Z"
   },
   {
    "duration": 6,
    "start_time": "2023-03-09T20:45:53.783Z"
   },
   {
    "duration": 40,
    "start_time": "2023-03-09T20:45:53.790Z"
   },
   {
    "duration": 70,
    "start_time": "2023-03-09T20:45:53.833Z"
   },
   {
    "duration": 128,
    "start_time": "2023-03-09T20:45:53.906Z"
   },
   {
    "duration": 67,
    "start_time": "2023-03-09T20:45:54.037Z"
   },
   {
    "duration": 120,
    "start_time": "2023-03-09T20:45:54.106Z"
   },
   {
    "duration": 3,
    "start_time": "2023-03-09T20:45:54.229Z"
   },
   {
    "duration": 70,
    "start_time": "2023-03-09T20:45:54.234Z"
   },
   {
    "duration": 497,
    "start_time": "2023-03-09T20:45:54.306Z"
   },
   {
    "duration": 408,
    "start_time": "2023-03-09T20:45:54.804Z"
   },
   {
    "duration": 490,
    "start_time": "2023-03-09T20:45:55.215Z"
   },
   {
    "duration": 101,
    "start_time": "2023-03-09T20:45:55.707Z"
   },
   {
    "duration": 112,
    "start_time": "2023-03-09T20:45:55.809Z"
   },
   {
    "duration": 13,
    "start_time": "2023-03-09T20:45:55.923Z"
   },
   {
    "duration": 3,
    "start_time": "2023-03-09T20:46:03.194Z"
   },
   {
    "duration": 61074,
    "start_time": "2023-03-09T20:46:05.041Z"
   },
   {
    "duration": 0,
    "start_time": "2023-03-09T20:47:06.117Z"
   },
   {
    "duration": 0,
    "start_time": "2023-03-09T20:47:06.119Z"
   },
   {
    "duration": 4,
    "start_time": "2023-03-09T20:47:13.822Z"
   },
   {
    "duration": 266,
    "start_time": "2023-03-09T20:47:14.340Z"
   },
   {
    "duration": 281,
    "start_time": "2023-03-09T20:47:15.030Z"
   },
   {
    "duration": 401,
    "start_time": "2023-03-09T20:47:15.404Z"
   },
   {
    "duration": 4,
    "start_time": "2023-03-09T20:53:44.923Z"
   },
   {
    "duration": 1097,
    "start_time": "2023-03-09T20:54:55.882Z"
   },
   {
    "duration": 0,
    "start_time": "2023-03-09T20:54:56.980Z"
   },
   {
    "duration": 5,
    "start_time": "2023-03-09T20:55:06.227Z"
   },
   {
    "duration": 4,
    "start_time": "2023-03-09T20:55:08.445Z"
   },
   {
    "duration": 5,
    "start_time": "2023-03-09T20:55:17.178Z"
   },
   {
    "duration": 4,
    "start_time": "2023-03-09T21:25:56.368Z"
   },
   {
    "duration": 4,
    "start_time": "2023-03-09T21:26:12.893Z"
   },
   {
    "duration": 3,
    "start_time": "2023-03-09T21:26:29.733Z"
   },
   {
    "duration": 4,
    "start_time": "2023-03-09T21:26:32.587Z"
   },
   {
    "duration": 4,
    "start_time": "2023-03-09T21:32:44.762Z"
   },
   {
    "duration": 3,
    "start_time": "2023-03-09T21:32:59.147Z"
   },
   {
    "duration": 4,
    "start_time": "2023-03-09T21:33:24.210Z"
   },
   {
    "duration": 5,
    "start_time": "2023-03-09T21:33:24.489Z"
   },
   {
    "duration": 5,
    "start_time": "2023-03-09T21:33:24.777Z"
   },
   {
    "duration": 4,
    "start_time": "2023-03-09T21:37:16.505Z"
   },
   {
    "duration": 5,
    "start_time": "2023-03-09T21:37:22.302Z"
   },
   {
    "duration": 11,
    "start_time": "2023-03-09T21:38:29.082Z"
   },
   {
    "duration": 10,
    "start_time": "2023-03-09T21:38:34.998Z"
   },
   {
    "duration": 3,
    "start_time": "2023-03-09T21:38:40.388Z"
   },
   {
    "duration": 7,
    "start_time": "2023-03-09T21:38:48.769Z"
   },
   {
    "duration": 15,
    "start_time": "2023-03-09T21:41:56.605Z"
   },
   {
    "duration": 15,
    "start_time": "2023-03-09T21:42:04.775Z"
   },
   {
    "duration": 84,
    "start_time": "2023-03-09T21:42:08.628Z"
   },
   {
    "duration": 15,
    "start_time": "2023-03-09T21:42:15.515Z"
   },
   {
    "duration": 7,
    "start_time": "2023-03-09T21:42:59.562Z"
   },
   {
    "duration": 5,
    "start_time": "2023-03-09T21:43:16.307Z"
   },
   {
    "duration": 6,
    "start_time": "2023-03-09T21:43:31.581Z"
   },
   {
    "duration": 6,
    "start_time": "2023-03-09T21:43:31.980Z"
   },
   {
    "duration": 10,
    "start_time": "2023-03-09T21:44:24.882Z"
   },
   {
    "duration": 7,
    "start_time": "2023-03-09T21:45:00.665Z"
   },
   {
    "duration": 6,
    "start_time": "2023-03-09T21:45:01.924Z"
   },
   {
    "duration": 7,
    "start_time": "2023-03-09T21:45:02.549Z"
   },
   {
    "duration": 7,
    "start_time": "2023-03-09T21:45:02.986Z"
   },
   {
    "duration": 9,
    "start_time": "2023-03-09T21:46:23.970Z"
   },
   {
    "duration": 5,
    "start_time": "2023-03-09T21:46:27.808Z"
   },
   {
    "duration": 4,
    "start_time": "2023-03-09T21:46:34.941Z"
   },
   {
    "duration": 4,
    "start_time": "2023-03-09T21:46:52.184Z"
   },
   {
    "duration": 13,
    "start_time": "2023-03-09T21:48:14.442Z"
   },
   {
    "duration": 14,
    "start_time": "2023-03-09T21:48:18.545Z"
   },
   {
    "duration": 3,
    "start_time": "2023-03-09T21:48:27.437Z"
   },
   {
    "duration": 3,
    "start_time": "2023-03-09T21:48:27.729Z"
   },
   {
    "duration": 3,
    "start_time": "2023-03-09T21:48:28.036Z"
   },
   {
    "duration": 14,
    "start_time": "2023-03-09T21:48:28.411Z"
   },
   {
    "duration": 10,
    "start_time": "2023-03-09T21:48:54.223Z"
   },
   {
    "duration": 18,
    "start_time": "2023-03-09T21:49:28.239Z"
   },
   {
    "duration": 9,
    "start_time": "2023-03-09T21:51:38.578Z"
   },
   {
    "duration": 10,
    "start_time": "2023-03-09T21:52:15.630Z"
   },
   {
    "duration": 10,
    "start_time": "2023-03-09T21:52:29.090Z"
   },
   {
    "duration": 10,
    "start_time": "2023-03-09T21:54:03.981Z"
   },
   {
    "duration": 11,
    "start_time": "2023-03-09T21:55:28.476Z"
   },
   {
    "duration": 11,
    "start_time": "2023-03-09T21:57:25.063Z"
   },
   {
    "duration": 11,
    "start_time": "2023-03-09T21:57:30.105Z"
   },
   {
    "duration": 4,
    "start_time": "2023-03-09T21:59:05.398Z"
   },
   {
    "duration": 341,
    "start_time": "2023-03-09T21:59:05.404Z"
   },
   {
    "duration": 163,
    "start_time": "2023-03-09T21:59:05.746Z"
   },
   {
    "duration": 287,
    "start_time": "2023-03-09T21:59:05.911Z"
   },
   {
    "duration": 3,
    "start_time": "2023-03-09T21:59:06.199Z"
   },
   {
    "duration": 5,
    "start_time": "2023-03-09T21:59:06.204Z"
   },
   {
    "duration": 32,
    "start_time": "2023-03-09T21:59:06.211Z"
   },
   {
    "duration": 63,
    "start_time": "2023-03-09T21:59:06.245Z"
   },
   {
    "duration": 124,
    "start_time": "2023-03-09T21:59:06.310Z"
   },
   {
    "duration": 68,
    "start_time": "2023-03-09T21:59:06.437Z"
   },
   {
    "duration": 125,
    "start_time": "2023-03-09T21:59:06.507Z"
   },
   {
    "duration": 70,
    "start_time": "2023-03-09T21:59:06.634Z"
   },
   {
    "duration": 98,
    "start_time": "2023-03-09T21:59:06.706Z"
   },
   {
    "duration": 298,
    "start_time": "2023-03-09T21:59:06.807Z"
   },
   {
    "duration": 496,
    "start_time": "2023-03-09T21:59:07.107Z"
   },
   {
    "duration": 399,
    "start_time": "2023-03-09T21:59:07.606Z"
   },
   {
    "duration": 95,
    "start_time": "2023-03-09T21:59:08.007Z"
   },
   {
    "duration": 100,
    "start_time": "2023-03-09T21:59:08.105Z"
   },
   {
    "duration": 11,
    "start_time": "2023-03-09T21:59:08.206Z"
   },
   {
    "duration": 8,
    "start_time": "2023-03-09T21:59:08.219Z"
   },
   {
    "duration": 13,
    "start_time": "2023-03-09T21:59:08.229Z"
   },
   {
    "duration": 10,
    "start_time": "2023-03-09T21:59:08.245Z"
   },
   {
    "duration": 11,
    "start_time": "2023-03-09T21:59:08.257Z"
   },
   {
    "duration": 13,
    "start_time": "2023-03-09T21:59:08.271Z"
   },
   {
    "duration": 21,
    "start_time": "2023-03-09T21:59:08.286Z"
   },
   {
    "duration": 12,
    "start_time": "2023-03-09T21:59:08.310Z"
   },
   {
    "duration": 21,
    "start_time": "2023-03-09T21:59:08.324Z"
   },
   {
    "duration": 20,
    "start_time": "2023-03-09T21:59:08.349Z"
   },
   {
    "duration": 5,
    "start_time": "2023-03-09T22:01:41.235Z"
   },
   {
    "duration": 10,
    "start_time": "2023-03-09T22:03:32.884Z"
   },
   {
    "duration": 16,
    "start_time": "2023-03-10T08:37:30.972Z"
   },
   {
    "duration": 46,
    "start_time": "2023-03-10T08:37:32.207Z"
   },
   {
    "duration": 1704,
    "start_time": "2023-03-10T08:37:38.455Z"
   },
   {
    "duration": 926,
    "start_time": "2023-03-10T08:37:40.161Z"
   },
   {
    "duration": 165,
    "start_time": "2023-03-10T08:37:41.091Z"
   },
   {
    "duration": 340,
    "start_time": "2023-03-10T08:37:41.258Z"
   },
   {
    "duration": 3,
    "start_time": "2023-03-10T08:37:41.600Z"
   },
   {
    "duration": 23,
    "start_time": "2023-03-10T08:37:41.605Z"
   },
   {
    "duration": 67,
    "start_time": "2023-03-10T08:37:41.630Z"
   },
   {
    "duration": 86,
    "start_time": "2023-03-10T08:37:41.701Z"
   },
   {
    "duration": 137,
    "start_time": "2023-03-10T08:37:41.795Z"
   },
   {
    "duration": 45,
    "start_time": "2023-03-10T08:37:41.937Z"
   },
   {
    "duration": 155,
    "start_time": "2023-03-10T08:37:41.984Z"
   },
   {
    "duration": 36,
    "start_time": "2023-03-10T08:37:42.142Z"
   },
   {
    "duration": 98,
    "start_time": "2023-03-10T08:37:42.180Z"
   },
   {
    "duration": 312,
    "start_time": "2023-03-10T08:37:42.283Z"
   },
   {
    "duration": 593,
    "start_time": "2023-03-10T08:37:42.598Z"
   },
   {
    "duration": 682,
    "start_time": "2023-03-10T08:37:43.194Z"
   },
   {
    "duration": 8,
    "start_time": "2023-03-10T08:37:43.878Z"
   },
   {
    "duration": 117,
    "start_time": "2023-03-10T08:37:43.892Z"
   },
   {
    "duration": 50,
    "start_time": "2023-03-10T08:37:44.011Z"
   },
   {
    "duration": 30,
    "start_time": "2023-03-10T08:37:44.063Z"
   },
   {
    "duration": 21,
    "start_time": "2023-03-10T08:37:44.095Z"
   },
   {
    "duration": 46,
    "start_time": "2023-03-10T08:37:44.118Z"
   },
   {
    "duration": 44,
    "start_time": "2023-03-10T08:37:44.167Z"
   },
   {
    "duration": 38,
    "start_time": "2023-03-10T08:37:44.213Z"
   },
   {
    "duration": 4,
    "start_time": "2023-03-10T08:37:53.248Z"
   },
   {
    "duration": 9,
    "start_time": "2023-03-10T08:37:54.303Z"
   },
   {
    "duration": 4,
    "start_time": "2023-03-10T08:38:28.891Z"
   },
   {
    "duration": 8,
    "start_time": "2023-03-10T08:38:29.625Z"
   },
   {
    "duration": 4,
    "start_time": "2023-03-10T08:40:47.522Z"
   },
   {
    "duration": 497,
    "start_time": "2023-03-10T08:40:47.530Z"
   },
   {
    "duration": 189,
    "start_time": "2023-03-10T08:40:48.029Z"
   },
   {
    "duration": 370,
    "start_time": "2023-03-10T08:40:48.220Z"
   },
   {
    "duration": 4,
    "start_time": "2023-03-10T08:40:48.593Z"
   },
   {
    "duration": 10,
    "start_time": "2023-03-10T08:40:48.599Z"
   },
   {
    "duration": 74,
    "start_time": "2023-03-10T08:40:48.611Z"
   },
   {
    "duration": 92,
    "start_time": "2023-03-10T08:40:48.687Z"
   },
   {
    "duration": 48,
    "start_time": "2023-03-10T08:40:48.780Z"
   },
   {
    "duration": 51,
    "start_time": "2023-03-10T08:40:48.830Z"
   },
   {
    "duration": 147,
    "start_time": "2023-03-10T08:40:48.885Z"
   },
   {
    "duration": 44,
    "start_time": "2023-03-10T08:40:49.034Z"
   },
   {
    "duration": 123,
    "start_time": "2023-03-10T08:40:49.080Z"
   },
   {
    "duration": 588,
    "start_time": "2023-03-10T08:40:49.205Z"
   },
   {
    "duration": 482,
    "start_time": "2023-03-10T08:40:49.794Z"
   },
   {
    "duration": 393,
    "start_time": "2023-03-10T08:40:50.283Z"
   },
   {
    "duration": 11,
    "start_time": "2023-03-10T08:40:50.686Z"
   },
   {
    "duration": 22,
    "start_time": "2023-03-10T08:40:50.775Z"
   },
   {
    "duration": 10,
    "start_time": "2023-03-10T08:40:50.799Z"
   },
   {
    "duration": 5,
    "start_time": "2023-03-10T08:40:50.811Z"
   },
   {
    "duration": 11,
    "start_time": "2023-03-10T08:40:50.819Z"
   },
   {
    "duration": 8,
    "start_time": "2023-03-10T08:40:50.833Z"
   },
   {
    "duration": 26,
    "start_time": "2023-03-10T08:40:50.843Z"
   },
   {
    "duration": 43,
    "start_time": "2023-03-10T08:40:50.872Z"
   },
   {
    "duration": 48,
    "start_time": "2023-03-10T08:40:50.918Z"
   },
   {
    "duration": 48,
    "start_time": "2023-03-10T08:40:50.968Z"
   },
   {
    "duration": 4,
    "start_time": "2023-03-10T08:55:59.748Z"
   },
   {
    "duration": 95,
    "start_time": "2023-03-10T08:56:00.000Z"
   },
   {
    "duration": 5,
    "start_time": "2023-03-10T08:56:10.692Z"
   },
   {
    "duration": 6,
    "start_time": "2023-03-10T08:56:11.001Z"
   },
   {
    "duration": 3,
    "start_time": "2023-03-10T08:56:21.529Z"
   },
   {
    "duration": 6,
    "start_time": "2023-03-10T08:56:21.752Z"
   },
   {
    "duration": 4,
    "start_time": "2023-03-10T08:56:37.928Z"
   },
   {
    "duration": 4,
    "start_time": "2023-03-10T08:56:38.180Z"
   },
   {
    "duration": 5,
    "start_time": "2023-03-10T09:09:46.673Z"
   },
   {
    "duration": 623,
    "start_time": "2023-03-10T09:09:46.688Z"
   },
   {
    "duration": 211,
    "start_time": "2023-03-10T09:09:47.313Z"
   },
   {
    "duration": 383,
    "start_time": "2023-03-10T09:09:47.527Z"
   },
   {
    "duration": 4,
    "start_time": "2023-03-10T09:09:47.913Z"
   },
   {
    "duration": 21,
    "start_time": "2023-03-10T09:09:47.920Z"
   },
   {
    "duration": 51,
    "start_time": "2023-03-10T09:09:47.943Z"
   },
   {
    "duration": 17,
    "start_time": "2023-03-10T09:09:47.997Z"
   },
   {
    "duration": 129,
    "start_time": "2023-03-10T09:09:48.084Z"
   },
   {
    "duration": 56,
    "start_time": "2023-03-10T09:09:48.220Z"
   },
   {
    "duration": 160,
    "start_time": "2023-03-10T09:09:48.284Z"
   },
   {
    "duration": 33,
    "start_time": "2023-03-10T09:09:48.446Z"
   },
   {
    "duration": 128,
    "start_time": "2023-03-10T09:09:48.483Z"
   },
   {
    "duration": 360,
    "start_time": "2023-03-10T09:09:48.613Z"
   },
   {
    "duration": 389,
    "start_time": "2023-03-10T09:09:49.005Z"
   },
   {
    "duration": 569,
    "start_time": "2023-03-10T09:09:49.405Z"
   },
   {
    "duration": 16,
    "start_time": "2023-03-10T09:09:49.975Z"
   },
   {
    "duration": 108,
    "start_time": "2023-03-10T09:09:49.993Z"
   },
   {
    "duration": 13,
    "start_time": "2023-03-10T09:09:50.104Z"
   },
   {
    "duration": 11,
    "start_time": "2023-03-10T09:09:50.119Z"
   },
   {
    "duration": 8,
    "start_time": "2023-03-10T09:09:50.134Z"
   },
   {
    "duration": 12,
    "start_time": "2023-03-10T09:09:50.144Z"
   },
   {
    "duration": 20,
    "start_time": "2023-03-10T09:09:50.158Z"
   },
   {
    "duration": 40,
    "start_time": "2023-03-10T09:09:50.181Z"
   },
   {
    "duration": 11,
    "start_time": "2023-03-10T09:09:50.224Z"
   },
   {
    "duration": 22,
    "start_time": "2023-03-10T09:09:50.238Z"
   },
   {
    "duration": 8,
    "start_time": "2023-03-10T09:09:50.262Z"
   },
   {
    "duration": 38,
    "start_time": "2023-03-10T09:09:50.272Z"
   },
   {
    "duration": 0,
    "start_time": "2023-03-10T09:09:50.312Z"
   },
   {
    "duration": 0,
    "start_time": "2023-03-10T09:09:50.314Z"
   },
   {
    "duration": 5,
    "start_time": "2023-03-10T09:18:58.001Z"
   },
   {
    "duration": 535,
    "start_time": "2023-03-10T09:18:58.008Z"
   },
   {
    "duration": 203,
    "start_time": "2023-03-10T09:18:58.544Z"
   },
   {
    "duration": 406,
    "start_time": "2023-03-10T09:18:58.749Z"
   },
   {
    "duration": 3,
    "start_time": "2023-03-10T09:18:59.157Z"
   },
   {
    "duration": 37,
    "start_time": "2023-03-10T09:18:59.162Z"
   },
   {
    "duration": 51,
    "start_time": "2023-03-10T09:18:59.202Z"
   },
   {
    "duration": 57,
    "start_time": "2023-03-10T09:18:59.255Z"
   },
   {
    "duration": 109,
    "start_time": "2023-03-10T09:18:59.374Z"
   },
   {
    "duration": 6,
    "start_time": "2023-03-10T09:18:59.488Z"
   },
   {
    "duration": 190,
    "start_time": "2023-03-10T09:18:59.498Z"
   },
   {
    "duration": 87,
    "start_time": "2023-03-10T09:18:59.690Z"
   },
   {
    "duration": 43,
    "start_time": "2023-03-10T09:18:59.779Z"
   },
   {
    "duration": 483,
    "start_time": "2023-03-10T09:18:59.825Z"
   },
   {
    "duration": 433,
    "start_time": "2023-03-10T09:19:00.375Z"
   },
   {
    "duration": 590,
    "start_time": "2023-03-10T09:19:00.811Z"
   },
   {
    "duration": 92,
    "start_time": "2023-03-10T09:19:01.409Z"
   },
   {
    "duration": 42,
    "start_time": "2023-03-10T09:19:01.573Z"
   },
   {
    "duration": 32,
    "start_time": "2023-03-10T09:19:01.617Z"
   },
   {
    "duration": 59,
    "start_time": "2023-03-10T09:19:01.650Z"
   },
   {
    "duration": 26,
    "start_time": "2023-03-10T09:19:01.711Z"
   },
   {
    "duration": 33,
    "start_time": "2023-03-10T09:19:01.739Z"
   },
   {
    "duration": 59,
    "start_time": "2023-03-10T09:19:01.774Z"
   },
   {
    "duration": 48,
    "start_time": "2023-03-10T09:19:01.835Z"
   },
   {
    "duration": 55,
    "start_time": "2023-03-10T09:19:01.890Z"
   },
   {
    "duration": 34,
    "start_time": "2023-03-10T09:19:01.947Z"
   },
   {
    "duration": 36,
    "start_time": "2023-03-10T09:19:01.995Z"
   },
   {
    "duration": 57,
    "start_time": "2023-03-10T09:19:02.033Z"
   },
   {
    "duration": 0,
    "start_time": "2023-03-10T09:19:02.093Z"
   },
   {
    "duration": 0,
    "start_time": "2023-03-10T09:19:02.095Z"
   },
   {
    "duration": 4,
    "start_time": "2023-03-10T09:19:54.235Z"
   },
   {
    "duration": 493,
    "start_time": "2023-03-10T09:19:54.242Z"
   },
   {
    "duration": 200,
    "start_time": "2023-03-10T09:19:54.737Z"
   },
   {
    "duration": 357,
    "start_time": "2023-03-10T09:19:54.940Z"
   },
   {
    "duration": 3,
    "start_time": "2023-03-10T09:19:55.299Z"
   },
   {
    "duration": 19,
    "start_time": "2023-03-10T09:19:55.305Z"
   },
   {
    "duration": 166,
    "start_time": "2023-03-10T09:19:55.327Z"
   },
   {
    "duration": 5,
    "start_time": "2023-03-10T09:19:55.496Z"
   },
   {
    "duration": 105,
    "start_time": "2023-03-10T09:19:55.504Z"
   },
   {
    "duration": 168,
    "start_time": "2023-03-10T09:19:55.614Z"
   },
   {
    "duration": 49,
    "start_time": "2023-03-10T09:19:55.784Z"
   },
   {
    "duration": 42,
    "start_time": "2023-03-10T09:19:55.835Z"
   },
   {
    "duration": 121,
    "start_time": "2023-03-10T09:19:55.879Z"
   },
   {
    "duration": 479,
    "start_time": "2023-03-10T09:19:56.002Z"
   },
   {
    "duration": 410,
    "start_time": "2023-03-10T09:19:56.485Z"
   },
   {
    "duration": 290,
    "start_time": "2023-03-10T09:19:56.899Z"
   },
   {
    "duration": 12,
    "start_time": "2023-03-10T09:19:57.194Z"
   },
   {
    "duration": 113,
    "start_time": "2023-03-10T09:19:57.209Z"
   },
   {
    "duration": 55,
    "start_time": "2023-03-10T09:19:57.324Z"
   },
   {
    "duration": 24,
    "start_time": "2023-03-10T09:19:57.385Z"
   },
   {
    "duration": 24,
    "start_time": "2023-03-10T09:19:57.412Z"
   },
   {
    "duration": 12,
    "start_time": "2023-03-10T09:19:57.438Z"
   },
   {
    "duration": 41,
    "start_time": "2023-03-10T09:19:57.453Z"
   },
   {
    "duration": 13,
    "start_time": "2023-03-10T09:19:57.496Z"
   },
   {
    "duration": 11,
    "start_time": "2023-03-10T09:19:57.511Z"
   },
   {
    "duration": 11,
    "start_time": "2023-03-10T09:19:57.525Z"
   },
   {
    "duration": 9,
    "start_time": "2023-03-10T09:19:57.538Z"
   },
   {
    "duration": 47,
    "start_time": "2023-03-10T09:19:57.551Z"
   },
   {
    "duration": 0,
    "start_time": "2023-03-10T09:19:57.600Z"
   },
   {
    "duration": 0,
    "start_time": "2023-03-10T09:19:57.602Z"
   },
   {
    "duration": 3,
    "start_time": "2023-03-10T09:20:15.703Z"
   },
   {
    "duration": 570,
    "start_time": "2023-03-10T09:20:15.709Z"
   },
   {
    "duration": 241,
    "start_time": "2023-03-10T09:20:16.284Z"
   },
   {
    "duration": 492,
    "start_time": "2023-03-10T09:20:16.528Z"
   },
   {
    "duration": 4,
    "start_time": "2023-03-10T09:20:17.023Z"
   },
   {
    "duration": 9,
    "start_time": "2023-03-10T09:20:17.029Z"
   },
   {
    "duration": 147,
    "start_time": "2023-03-10T09:20:17.040Z"
   },
   {
    "duration": 10,
    "start_time": "2023-03-10T09:20:17.193Z"
   },
   {
    "duration": 58,
    "start_time": "2023-03-10T09:20:17.277Z"
   },
   {
    "duration": 40,
    "start_time": "2023-03-10T09:20:17.337Z"
   },
   {
    "duration": 162,
    "start_time": "2023-03-10T09:20:17.379Z"
   },
   {
    "duration": 39,
    "start_time": "2023-03-10T09:20:17.543Z"
   },
   {
    "duration": 96,
    "start_time": "2023-03-10T09:20:17.585Z"
   },
   {
    "duration": 414,
    "start_time": "2023-03-10T09:20:17.689Z"
   },
   {
    "duration": 668,
    "start_time": "2023-03-10T09:20:18.105Z"
   },
   {
    "duration": 327,
    "start_time": "2023-03-10T09:20:18.776Z"
   },
   {
    "duration": 11,
    "start_time": "2023-03-10T09:20:19.175Z"
   },
   {
    "duration": 109,
    "start_time": "2023-03-10T09:20:19.193Z"
   },
   {
    "duration": 13,
    "start_time": "2023-03-10T09:20:19.304Z"
   },
   {
    "duration": 10,
    "start_time": "2023-03-10T09:20:19.320Z"
   },
   {
    "duration": 18,
    "start_time": "2023-03-10T09:20:19.332Z"
   },
   {
    "duration": 10,
    "start_time": "2023-03-10T09:20:19.353Z"
   },
   {
    "duration": 34,
    "start_time": "2023-03-10T09:20:19.365Z"
   },
   {
    "duration": 23,
    "start_time": "2023-03-10T09:20:19.403Z"
   },
   {
    "duration": 18,
    "start_time": "2023-03-10T09:20:19.428Z"
   },
   {
    "duration": 16,
    "start_time": "2023-03-10T09:20:19.449Z"
   },
   {
    "duration": 15,
    "start_time": "2023-03-10T09:20:19.467Z"
   },
   {
    "duration": 241,
    "start_time": "2023-03-10T09:20:19.484Z"
   },
   {
    "duration": 0,
    "start_time": "2023-03-10T09:20:19.728Z"
   },
   {
    "duration": 0,
    "start_time": "2023-03-10T09:20:19.730Z"
   },
   {
    "duration": 4,
    "start_time": "2023-03-10T09:23:31.855Z"
   },
   {
    "duration": 489,
    "start_time": "2023-03-10T09:23:31.862Z"
   },
   {
    "duration": 186,
    "start_time": "2023-03-10T09:23:32.353Z"
   },
   {
    "duration": 372,
    "start_time": "2023-03-10T09:23:32.540Z"
   },
   {
    "duration": 3,
    "start_time": "2023-03-10T09:23:32.914Z"
   },
   {
    "duration": 7,
    "start_time": "2023-03-10T09:23:32.919Z"
   },
   {
    "duration": 52,
    "start_time": "2023-03-10T09:23:32.928Z"
   },
   {
    "duration": 81,
    "start_time": "2023-03-10T09:23:32.992Z"
   },
   {
    "duration": 97,
    "start_time": "2023-03-10T09:23:33.076Z"
   },
   {
    "duration": 8,
    "start_time": "2023-03-10T09:23:33.180Z"
   },
   {
    "duration": 193,
    "start_time": "2023-03-10T09:23:33.195Z"
   },
   {
    "duration": 76,
    "start_time": "2023-03-10T09:23:33.404Z"
   },
   {
    "duration": 12,
    "start_time": "2023-03-10T09:23:33.486Z"
   },
   {
    "duration": 493,
    "start_time": "2023-03-10T09:23:33.500Z"
   },
   {
    "duration": 475,
    "start_time": "2023-03-10T09:23:33.999Z"
   },
   {
    "duration": 497,
    "start_time": "2023-03-10T09:23:34.485Z"
   },
   {
    "duration": 84,
    "start_time": "2023-03-10T09:23:34.995Z"
   },
   {
    "duration": 22,
    "start_time": "2023-03-10T09:23:35.082Z"
   },
   {
    "duration": 17,
    "start_time": "2023-03-10T09:23:35.106Z"
   },
   {
    "duration": 14,
    "start_time": "2023-03-10T09:23:35.125Z"
   },
   {
    "duration": 7,
    "start_time": "2023-03-10T09:23:35.142Z"
   },
   {
    "duration": 7,
    "start_time": "2023-03-10T09:23:35.151Z"
   },
   {
    "duration": 6,
    "start_time": "2023-03-10T09:23:35.160Z"
   },
   {
    "duration": 32,
    "start_time": "2023-03-10T09:23:35.169Z"
   },
   {
    "duration": 14,
    "start_time": "2023-03-10T09:23:35.203Z"
   },
   {
    "duration": 25,
    "start_time": "2023-03-10T09:23:35.219Z"
   },
   {
    "duration": 11,
    "start_time": "2023-03-10T09:23:35.246Z"
   },
   {
    "duration": 16,
    "start_time": "2023-03-10T09:23:35.259Z"
   },
   {
    "duration": 76,
    "start_time": "2023-03-10T09:23:35.279Z"
   },
   {
    "duration": 0,
    "start_time": "2023-03-10T09:23:35.357Z"
   },
   {
    "duration": 0,
    "start_time": "2023-03-10T09:23:35.359Z"
   },
   {
    "duration": 5,
    "start_time": "2023-03-10T09:23:47.005Z"
   },
   {
    "duration": 533,
    "start_time": "2023-03-10T09:23:47.012Z"
   },
   {
    "duration": 245,
    "start_time": "2023-03-10T09:23:47.548Z"
   },
   {
    "duration": 373,
    "start_time": "2023-03-10T09:23:47.795Z"
   },
   {
    "duration": 4,
    "start_time": "2023-03-10T09:23:48.174Z"
   },
   {
    "duration": 25,
    "start_time": "2023-03-10T09:23:48.180Z"
   },
   {
    "duration": 75,
    "start_time": "2023-03-10T09:23:48.207Z"
   },
   {
    "duration": 6,
    "start_time": "2023-03-10T09:23:48.284Z"
   },
   {
    "duration": 130,
    "start_time": "2023-03-10T09:23:48.293Z"
   },
   {
    "duration": 46,
    "start_time": "2023-03-10T09:23:48.428Z"
   },
   {
    "duration": 122,
    "start_time": "2023-03-10T09:23:48.479Z"
   },
   {
    "duration": 7,
    "start_time": "2023-03-10T09:23:48.603Z"
   },
   {
    "duration": 164,
    "start_time": "2023-03-10T09:23:48.613Z"
   },
   {
    "duration": 320,
    "start_time": "2023-03-10T09:23:48.781Z"
   },
   {
    "duration": 525,
    "start_time": "2023-03-10T09:23:49.173Z"
   },
   {
    "duration": 308,
    "start_time": "2023-03-10T09:23:49.776Z"
   },
   {
    "duration": 197,
    "start_time": "2023-03-10T09:23:50.086Z"
   },
   {
    "duration": 8,
    "start_time": "2023-03-10T09:23:50.290Z"
   },
   {
    "duration": 9,
    "start_time": "2023-03-10T09:23:50.299Z"
   },
   {
    "duration": 12,
    "start_time": "2023-03-10T09:23:50.310Z"
   },
   {
    "duration": 12,
    "start_time": "2023-03-10T09:23:50.324Z"
   },
   {
    "duration": 11,
    "start_time": "2023-03-10T09:23:50.338Z"
   },
   {
    "duration": 6,
    "start_time": "2023-03-10T09:23:50.350Z"
   },
   {
    "duration": 63,
    "start_time": "2023-03-10T09:23:50.359Z"
   },
   {
    "duration": 10,
    "start_time": "2023-03-10T09:23:50.425Z"
   },
   {
    "duration": 27,
    "start_time": "2023-03-10T09:23:50.437Z"
   },
   {
    "duration": 5,
    "start_time": "2023-03-10T09:23:50.466Z"
   },
   {
    "duration": 40,
    "start_time": "2023-03-10T09:23:50.478Z"
   },
   {
    "duration": 284,
    "start_time": "2023-03-10T09:23:50.523Z"
   },
   {
    "duration": 0,
    "start_time": "2023-03-10T09:23:50.809Z"
   },
   {
    "duration": 0,
    "start_time": "2023-03-10T09:23:50.811Z"
   },
   {
    "duration": 9,
    "start_time": "2023-03-10T09:25:39.009Z"
   },
   {
    "duration": 298,
    "start_time": "2023-03-10T09:25:39.357Z"
   },
   {
    "duration": 8,
    "start_time": "2023-03-10T09:27:18.381Z"
   },
   {
    "duration": 25,
    "start_time": "2023-03-10T09:27:18.843Z"
   },
   {
    "duration": 6,
    "start_time": "2023-03-10T09:29:10.428Z"
   },
   {
    "duration": 6,
    "start_time": "2023-03-10T09:29:10.803Z"
   },
   {
    "duration": 25,
    "start_time": "2023-03-10T09:29:11.613Z"
   },
   {
    "duration": 6,
    "start_time": "2023-03-10T09:29:57.350Z"
   },
   {
    "duration": 3810,
    "start_time": "2023-03-10T09:29:58.335Z"
   },
   {
    "duration": 5,
    "start_time": "2023-03-10T09:30:21.241Z"
   },
   {
    "duration": 3664,
    "start_time": "2023-03-10T09:30:22.102Z"
   },
   {
    "duration": 7,
    "start_time": "2023-03-10T09:30:30.834Z"
   },
   {
    "duration": 2952,
    "start_time": "2023-03-10T09:30:31.403Z"
   },
   {
    "duration": 6,
    "start_time": "2023-03-10T09:31:18.485Z"
   },
   {
    "duration": 3172,
    "start_time": "2023-03-10T09:31:18.806Z"
   },
   {
    "duration": 4,
    "start_time": "2023-03-10T09:37:40.331Z"
   },
   {
    "duration": 510,
    "start_time": "2023-03-10T09:37:40.337Z"
   },
   {
    "duration": 183,
    "start_time": "2023-03-10T09:37:40.850Z"
   },
   {
    "duration": 323,
    "start_time": "2023-03-10T09:37:41.035Z"
   },
   {
    "duration": 3,
    "start_time": "2023-03-10T09:37:41.360Z"
   },
   {
    "duration": 23,
    "start_time": "2023-03-10T09:37:41.365Z"
   },
   {
    "duration": 30,
    "start_time": "2023-03-10T09:37:41.390Z"
   },
   {
    "duration": 8,
    "start_time": "2023-03-10T09:37:41.472Z"
   },
   {
    "duration": 166,
    "start_time": "2023-03-10T09:37:41.482Z"
   },
   {
    "duration": 28,
    "start_time": "2023-03-10T09:37:41.653Z"
   },
   {
    "duration": 129,
    "start_time": "2023-03-10T09:37:41.687Z"
   },
   {
    "duration": 66,
    "start_time": "2023-03-10T09:37:41.823Z"
   },
   {
    "duration": 95,
    "start_time": "2023-03-10T09:37:41.900Z"
   },
   {
    "duration": 376,
    "start_time": "2023-03-10T09:37:41.997Z"
   },
   {
    "duration": 312,
    "start_time": "2023-03-10T09:37:42.376Z"
   },
   {
    "duration": 300,
    "start_time": "2023-03-10T09:37:42.690Z"
   },
   {
    "duration": 83,
    "start_time": "2023-03-10T09:37:42.992Z"
   },
   {
    "duration": 111,
    "start_time": "2023-03-10T09:37:43.078Z"
   },
   {
    "duration": 7,
    "start_time": "2023-03-10T09:37:43.191Z"
   },
   {
    "duration": 18,
    "start_time": "2023-03-10T09:37:43.199Z"
   },
   {
    "duration": 7,
    "start_time": "2023-03-10T09:37:43.219Z"
   },
   {
    "duration": 13,
    "start_time": "2023-03-10T09:37:43.228Z"
   },
   {
    "duration": 5,
    "start_time": "2023-03-10T09:37:43.243Z"
   },
   {
    "duration": 15,
    "start_time": "2023-03-10T09:37:43.249Z"
   },
   {
    "duration": 16,
    "start_time": "2023-03-10T09:37:43.266Z"
   },
   {
    "duration": 14,
    "start_time": "2023-03-10T09:37:43.285Z"
   },
   {
    "duration": 4,
    "start_time": "2023-03-10T09:37:43.300Z"
   },
   {
    "duration": 7,
    "start_time": "2023-03-10T09:37:43.306Z"
   },
   {
    "duration": 3503,
    "start_time": "2023-03-10T09:37:43.317Z"
   },
   {
    "duration": 3668,
    "start_time": "2023-03-10T09:37:46.822Z"
   },
   {
    "duration": 3669,
    "start_time": "2023-03-10T09:37:50.492Z"
   },
   {
    "duration": 4,
    "start_time": "2023-03-10T09:38:47.643Z"
   },
   {
    "duration": 11,
    "start_time": "2023-03-10T09:38:48.751Z"
   },
   {
    "duration": 6,
    "start_time": "2023-03-10T09:39:00.898Z"
   },
   {
    "duration": 15,
    "start_time": "2023-03-10T09:39:02.035Z"
   },
   {
    "duration": 4,
    "start_time": "2023-03-10T09:39:24.966Z"
   },
   {
    "duration": 13,
    "start_time": "2023-03-10T09:39:26.089Z"
   },
   {
    "duration": 10,
    "start_time": "2023-03-10T09:39:27.648Z"
   },
   {
    "duration": 9,
    "start_time": "2023-03-10T09:39:27.861Z"
   },
   {
    "duration": 9,
    "start_time": "2023-03-10T09:39:39.785Z"
   },
   {
    "duration": 5,
    "start_time": "2023-03-10T09:40:12.197Z"
   },
   {
    "duration": 11,
    "start_time": "2023-03-10T09:40:13.156Z"
   },
   {
    "duration": 4,
    "start_time": "2023-03-10T09:40:33.424Z"
   },
   {
    "duration": 15,
    "start_time": "2023-03-10T09:40:34.183Z"
   },
   {
    "duration": 21,
    "start_time": "2023-03-10T09:40:34.369Z"
   },
   {
    "duration": 10,
    "start_time": "2023-03-10T09:40:34.555Z"
   },
   {
    "duration": 4,
    "start_time": "2023-03-10T09:40:36.196Z"
   },
   {
    "duration": 6,
    "start_time": "2023-03-10T09:40:36.949Z"
   },
   {
    "duration": 7,
    "start_time": "2023-03-10T09:45:10.285Z"
   },
   {
    "duration": 23,
    "start_time": "2023-03-10T09:45:10.827Z"
   },
   {
    "duration": 4,
    "start_time": "2023-03-10T09:48:11.684Z"
   },
   {
    "duration": 8,
    "start_time": "2023-03-10T09:48:12.217Z"
   },
   {
    "duration": 1723,
    "start_time": "2023-03-10T09:48:13.518Z"
   },
   {
    "duration": 7,
    "start_time": "2023-03-10T09:49:20.319Z"
   },
   {
    "duration": 1563,
    "start_time": "2023-03-10T09:49:20.615Z"
   },
   {
    "duration": 7,
    "start_time": "2023-03-10T09:53:07.139Z"
   },
   {
    "duration": 15,
    "start_time": "2023-03-10T09:53:07.501Z"
   },
   {
    "duration": 6,
    "start_time": "2023-03-10T09:53:44.550Z"
   },
   {
    "duration": 19,
    "start_time": "2023-03-10T09:53:44.948Z"
   },
   {
    "duration": 6,
    "start_time": "2023-03-10T09:53:55.140Z"
   },
   {
    "duration": 1559,
    "start_time": "2023-03-10T09:53:55.470Z"
   },
   {
    "duration": 8,
    "start_time": "2023-03-10T09:54:26.869Z"
   },
   {
    "duration": 1558,
    "start_time": "2023-03-10T09:54:27.102Z"
   },
   {
    "duration": 9,
    "start_time": "2023-03-10T09:54:35.562Z"
   },
   {
    "duration": 1577,
    "start_time": "2023-03-10T09:54:36.254Z"
   },
   {
    "duration": 13,
    "start_time": "2023-03-10T09:55:30.864Z"
   },
   {
    "duration": 1620,
    "start_time": "2023-03-10T09:55:31.139Z"
   },
   {
    "duration": 3,
    "start_time": "2023-03-10T09:56:19.433Z"
   },
   {
    "duration": 7,
    "start_time": "2023-03-10T09:56:19.949Z"
   },
   {
    "duration": 1800,
    "start_time": "2023-03-10T09:56:20.390Z"
   },
   {
    "duration": 4,
    "start_time": "2023-03-10T09:56:52.647Z"
   },
   {
    "duration": 9,
    "start_time": "2023-03-10T09:56:52.967Z"
   },
   {
    "duration": 1818,
    "start_time": "2023-03-10T09:56:53.230Z"
   },
   {
    "duration": 1723,
    "start_time": "2023-03-10T09:57:21.888Z"
   },
   {
    "duration": 1773,
    "start_time": "2023-03-10T09:57:23.613Z"
   },
   {
    "duration": 12,
    "start_time": "2023-03-10T09:58:16.609Z"
   },
   {
    "duration": 4,
    "start_time": "2023-03-10T09:58:19.048Z"
   },
   {
    "duration": 5,
    "start_time": "2023-03-10T09:58:26.937Z"
   },
   {
    "duration": 80,
    "start_time": "2023-03-10T09:59:21.110Z"
   },
   {
    "duration": 6,
    "start_time": "2023-03-10T09:59:28.334Z"
   },
   {
    "duration": 1759,
    "start_time": "2023-03-10T09:59:28.696Z"
   },
   {
    "duration": 1474,
    "start_time": "2023-03-15T10:11:01.759Z"
   },
   {
    "duration": 1482,
    "start_time": "2023-03-15T10:11:03.235Z"
   },
   {
    "duration": 151,
    "start_time": "2023-03-15T10:11:04.718Z"
   },
   {
    "duration": 305,
    "start_time": "2023-03-15T10:11:04.871Z"
   },
   {
    "duration": 2,
    "start_time": "2023-03-15T10:11:05.178Z"
   },
   {
    "duration": 14,
    "start_time": "2023-03-15T10:11:05.182Z"
   },
   {
    "duration": 127,
    "start_time": "2023-03-15T10:11:05.198Z"
   },
   {
    "duration": 93,
    "start_time": "2023-03-15T10:11:05.327Z"
   },
   {
    "duration": 99,
    "start_time": "2023-03-15T10:11:05.422Z"
   },
   {
    "duration": 4,
    "start_time": "2023-03-15T10:11:05.523Z"
   },
   {
    "duration": 130,
    "start_time": "2023-03-15T10:11:05.529Z"
   },
   {
    "duration": 60,
    "start_time": "2023-03-15T10:11:05.662Z"
   },
   {
    "duration": 4,
    "start_time": "2023-03-15T10:11:05.724Z"
   },
   {
    "duration": 593,
    "start_time": "2023-03-15T10:11:05.731Z"
   },
   {
    "duration": 502,
    "start_time": "2023-03-15T10:11:06.327Z"
   },
   {
    "duration": 596,
    "start_time": "2023-03-15T10:11:06.831Z"
   },
   {
    "duration": 93,
    "start_time": "2023-03-15T10:11:07.429Z"
   },
   {
    "duration": 6,
    "start_time": "2023-03-15T10:11:07.524Z"
   },
   {
    "duration": 94,
    "start_time": "2023-03-15T10:11:07.531Z"
   },
   {
    "duration": 4,
    "start_time": "2023-03-15T10:11:07.627Z"
   },
   {
    "duration": 3,
    "start_time": "2023-03-15T10:11:07.633Z"
   },
   {
    "duration": 4,
    "start_time": "2023-03-15T10:11:07.638Z"
   },
   {
    "duration": 7,
    "start_time": "2023-03-15T10:11:07.643Z"
   },
   {
    "duration": 10,
    "start_time": "2023-03-15T10:11:07.652Z"
   },
   {
    "duration": 9,
    "start_time": "2023-03-15T10:11:07.664Z"
   },
   {
    "duration": 49,
    "start_time": "2023-03-15T10:11:07.675Z"
   },
   {
    "duration": 4,
    "start_time": "2023-03-15T10:11:07.725Z"
   },
   {
    "duration": 7,
    "start_time": "2023-03-15T10:11:07.730Z"
   },
   {
    "duration": 126,
    "start_time": "2023-03-15T10:11:07.738Z"
   },
   {
    "duration": 0,
    "start_time": "2023-03-15T10:11:07.866Z"
   },
   {
    "duration": 0,
    "start_time": "2023-03-15T10:11:07.867Z"
   },
   {
    "duration": 6,
    "start_time": "2023-03-15T10:11:44.366Z"
   },
   {
    "duration": 1471,
    "start_time": "2023-03-15T10:11:45.131Z"
   },
   {
    "duration": 0,
    "start_time": "2023-03-15T10:11:46.604Z"
   },
   {
    "duration": 0,
    "start_time": "2023-03-15T10:11:46.606Z"
   },
   {
    "duration": 6,
    "start_time": "2023-03-15T10:11:54.108Z"
   },
   {
    "duration": 1397,
    "start_time": "2023-03-15T10:11:54.757Z"
   },
   {
    "duration": 1467,
    "start_time": "2023-03-15T10:11:56.156Z"
   },
   {
    "duration": 1454,
    "start_time": "2023-03-15T10:11:57.624Z"
   },
   {
    "duration": 6,
    "start_time": "2023-03-15T10:13:14.073Z"
   },
   {
    "duration": 1436,
    "start_time": "2023-03-15T10:13:14.459Z"
   },
   {
    "duration": 6,
    "start_time": "2023-03-15T10:14:16.543Z"
   },
   {
    "duration": 1434,
    "start_time": "2023-03-15T10:14:16.833Z"
   },
   {
    "duration": 1448,
    "start_time": "2023-03-15T10:14:18.270Z"
   },
   {
    "duration": 1455,
    "start_time": "2023-03-15T10:14:19.719Z"
   },
   {
    "duration": 6,
    "start_time": "2023-03-15T10:15:15.172Z"
   },
   {
    "duration": 1435,
    "start_time": "2023-03-15T10:15:15.481Z"
   },
   {
    "duration": 8,
    "start_time": "2023-03-15T10:18:48.734Z"
   },
   {
    "duration": 1504,
    "start_time": "2023-03-15T10:18:49.071Z"
   },
   {
    "duration": 1461,
    "start_time": "2023-03-15T10:18:50.577Z"
   },
   {
    "duration": 1502,
    "start_time": "2023-03-15T10:18:52.040Z"
   },
   {
    "duration": 7,
    "start_time": "2023-03-15T10:34:55.113Z"
   },
   {
    "duration": 1480,
    "start_time": "2023-03-15T10:34:56.075Z"
   },
   {
    "duration": 8,
    "start_time": "2023-03-15T10:35:14.474Z"
   },
   {
    "duration": 1653,
    "start_time": "2023-03-15T10:35:15.169Z"
   },
   {
    "duration": 96,
    "start_time": "2023-03-15T10:39:13.700Z"
   },
   {
    "duration": 1469,
    "start_time": "2023-03-15T10:39:14.176Z"
   },
   {
    "duration": 7,
    "start_time": "2023-03-15T10:45:14.509Z"
   },
   {
    "duration": 1601,
    "start_time": "2023-03-15T10:45:15.020Z"
   },
   {
    "duration": 9,
    "start_time": "2023-03-15T10:45:59.524Z"
   },
   {
    "duration": 1833,
    "start_time": "2023-03-15T10:46:00.130Z"
   },
   {
    "duration": 7,
    "start_time": "2023-03-15T10:46:16.518Z"
   },
   {
    "duration": 1742,
    "start_time": "2023-03-15T10:46:17.028Z"
   },
   {
    "duration": 8,
    "start_time": "2023-03-15T10:48:00.549Z"
   },
   {
    "duration": 1716,
    "start_time": "2023-03-15T10:48:01.115Z"
   },
   {
    "duration": 8,
    "start_time": "2023-03-15T10:50:17.920Z"
   },
   {
    "duration": 1798,
    "start_time": "2023-03-15T10:50:18.330Z"
   },
   {
    "duration": 7,
    "start_time": "2023-03-15T10:50:39.677Z"
   },
   {
    "duration": 1686,
    "start_time": "2023-03-15T10:50:40.115Z"
   },
   {
    "duration": 8,
    "start_time": "2023-03-15T10:50:54.718Z"
   },
   {
    "duration": 1662,
    "start_time": "2023-03-15T10:50:55.149Z"
   },
   {
    "duration": 8,
    "start_time": "2023-03-15T10:51:24.850Z"
   },
   {
    "duration": 1690,
    "start_time": "2023-03-15T10:51:25.354Z"
   },
   {
    "duration": 8,
    "start_time": "2023-03-15T10:51:53.423Z"
   },
   {
    "duration": 1679,
    "start_time": "2023-03-15T10:51:53.967Z"
   },
   {
    "duration": 103,
    "start_time": "2023-03-15T10:52:05.131Z"
   },
   {
    "duration": 1662,
    "start_time": "2023-03-15T10:52:05.777Z"
   },
   {
    "duration": 8,
    "start_time": "2023-03-15T10:52:19.434Z"
   },
   {
    "duration": 1763,
    "start_time": "2023-03-15T10:52:19.900Z"
   },
   {
    "duration": 4,
    "start_time": "2023-03-15T10:52:47.714Z"
   },
   {
    "duration": 347,
    "start_time": "2023-03-15T10:52:47.720Z"
   },
   {
    "duration": 154,
    "start_time": "2023-03-15T10:52:48.068Z"
   },
   {
    "duration": 299,
    "start_time": "2023-03-15T10:52:48.224Z"
   },
   {
    "duration": 3,
    "start_time": "2023-03-15T10:52:48.525Z"
   },
   {
    "duration": 8,
    "start_time": "2023-03-15T10:52:48.529Z"
   },
   {
    "duration": 30,
    "start_time": "2023-03-15T10:52:48.539Z"
   },
   {
    "duration": 58,
    "start_time": "2023-03-15T10:52:48.570Z"
   },
   {
    "duration": 114,
    "start_time": "2023-03-15T10:52:48.631Z"
   },
   {
    "duration": 4,
    "start_time": "2023-03-15T10:52:48.747Z"
   },
   {
    "duration": 116,
    "start_time": "2023-03-15T10:52:48.822Z"
   },
   {
    "duration": 80,
    "start_time": "2023-03-15T10:52:48.943Z"
   },
   {
    "duration": 4,
    "start_time": "2023-03-15T10:52:49.025Z"
   },
   {
    "duration": 399,
    "start_time": "2023-03-15T10:52:49.031Z"
   },
   {
    "duration": 502,
    "start_time": "2023-03-15T10:52:49.522Z"
   },
   {
    "duration": 502,
    "start_time": "2023-03-15T10:52:50.025Z"
   },
   {
    "duration": 92,
    "start_time": "2023-03-15T10:52:50.530Z"
   },
   {
    "duration": 7,
    "start_time": "2023-03-15T10:52:50.624Z"
   },
   {
    "duration": 8,
    "start_time": "2023-03-15T10:52:50.722Z"
   },
   {
    "duration": 4,
    "start_time": "2023-03-15T10:52:50.731Z"
   },
   {
    "duration": 5,
    "start_time": "2023-03-15T10:52:50.737Z"
   },
   {
    "duration": 4,
    "start_time": "2023-03-15T10:52:50.744Z"
   },
   {
    "duration": 4,
    "start_time": "2023-03-15T10:52:50.750Z"
   },
   {
    "duration": 13,
    "start_time": "2023-03-15T10:52:50.757Z"
   },
   {
    "duration": 9,
    "start_time": "2023-03-15T10:52:50.771Z"
   },
   {
    "duration": 41,
    "start_time": "2023-03-15T10:52:50.781Z"
   },
   {
    "duration": 4,
    "start_time": "2023-03-15T10:52:50.824Z"
   },
   {
    "duration": 10,
    "start_time": "2023-03-15T10:52:50.830Z"
   },
   {
    "duration": 1623,
    "start_time": "2023-03-15T10:52:50.841Z"
   },
   {
    "duration": 1663,
    "start_time": "2023-03-15T10:52:52.466Z"
   },
   {
    "duration": 1614,
    "start_time": "2023-03-15T10:52:54.131Z"
   },
   {
    "duration": 4,
    "start_time": "2023-03-15T11:22:14.322Z"
   },
   {
    "duration": 403,
    "start_time": "2023-03-15T11:22:14.329Z"
   },
   {
    "duration": 173,
    "start_time": "2023-03-15T11:22:14.734Z"
   },
   {
    "duration": 297,
    "start_time": "2023-03-15T11:22:14.920Z"
   },
   {
    "duration": 2,
    "start_time": "2023-03-15T11:22:15.220Z"
   },
   {
    "duration": 12,
    "start_time": "2023-03-15T11:22:15.224Z"
   },
   {
    "duration": 86,
    "start_time": "2023-03-15T11:22:15.238Z"
   },
   {
    "duration": 7,
    "start_time": "2023-03-15T11:22:15.328Z"
   },
   {
    "duration": 29,
    "start_time": "2023-03-15T11:22:15.422Z"
   },
   {
    "duration": 69,
    "start_time": "2023-03-15T11:22:15.453Z"
   },
   {
    "duration": 117,
    "start_time": "2023-03-15T11:22:15.523Z"
   },
   {
    "duration": 77,
    "start_time": "2023-03-15T11:22:15.644Z"
   },
   {
    "duration": 98,
    "start_time": "2023-03-15T11:22:15.725Z"
   },
   {
    "duration": 296,
    "start_time": "2023-03-15T11:22:15.827Z"
   },
   {
    "duration": 402,
    "start_time": "2023-03-15T11:22:16.125Z"
   },
   {
    "duration": 295,
    "start_time": "2023-03-15T11:22:16.529Z"
   },
   {
    "duration": 6,
    "start_time": "2023-03-15T11:22:16.825Z"
   },
   {
    "duration": 91,
    "start_time": "2023-03-15T11:22:16.833Z"
   },
   {
    "duration": 6,
    "start_time": "2023-03-15T11:22:16.928Z"
   },
   {
    "duration": 89,
    "start_time": "2023-03-15T11:22:16.937Z"
   },
   {
    "duration": 10,
    "start_time": "2023-03-15T11:22:17.028Z"
   },
   {
    "duration": 3,
    "start_time": "2023-03-15T11:22:17.040Z"
   },
   {
    "duration": 4,
    "start_time": "2023-03-15T11:22:17.045Z"
   },
   {
    "duration": 11,
    "start_time": "2023-03-15T11:22:17.051Z"
   },
   {
    "duration": 9,
    "start_time": "2023-03-15T11:22:17.064Z"
   },
   {
    "duration": 46,
    "start_time": "2023-03-15T11:22:17.075Z"
   },
   {
    "duration": 4,
    "start_time": "2023-03-15T11:22:17.123Z"
   },
   {
    "duration": 11,
    "start_time": "2023-03-15T11:22:17.128Z"
   },
   {
    "duration": 1703,
    "start_time": "2023-03-15T11:22:17.140Z"
   },
   {
    "duration": 1795,
    "start_time": "2023-03-15T11:22:18.845Z"
   },
   {
    "duration": 1711,
    "start_time": "2023-03-15T11:22:20.642Z"
   },
   {
    "duration": 106,
    "start_time": "2023-03-15T11:25:40.478Z"
   },
   {
    "duration": 1705,
    "start_time": "2023-03-15T11:25:40.975Z"
   },
   {
    "duration": 8,
    "start_time": "2023-03-15T11:26:54.925Z"
   },
   {
    "duration": 1392,
    "start_time": "2023-03-15T11:26:55.405Z"
   },
   {
    "duration": 8,
    "start_time": "2023-03-15T11:27:08.432Z"
   },
   {
    "duration": 1798,
    "start_time": "2023-03-15T11:27:08.956Z"
   },
   {
    "duration": 1678,
    "start_time": "2023-03-15T11:27:10.756Z"
   },
   {
    "duration": 1793,
    "start_time": "2023-03-15T11:27:12.436Z"
   },
   {
    "duration": 150,
    "start_time": "2023-03-15T11:30:36.704Z"
   },
   {
    "duration": 169,
    "start_time": "2023-03-15T11:31:22.609Z"
   },
   {
    "duration": 171,
    "start_time": "2023-03-15T11:31:39.733Z"
   },
   {
    "duration": 147,
    "start_time": "2023-03-15T11:34:01.605Z"
   },
   {
    "duration": 149,
    "start_time": "2023-03-15T11:34:26.852Z"
   },
   {
    "duration": 152,
    "start_time": "2023-03-15T11:34:46.130Z"
   },
   {
    "duration": 14,
    "start_time": "2023-03-15T11:35:31.345Z"
   },
   {
    "duration": 169,
    "start_time": "2023-03-15T11:36:17.205Z"
   },
   {
    "duration": 154,
    "start_time": "2023-03-15T11:36:41.240Z"
   },
   {
    "duration": 158,
    "start_time": "2023-03-15T11:37:01.844Z"
   },
   {
    "duration": 177,
    "start_time": "2023-03-15T11:37:16.013Z"
   },
   {
    "duration": 319,
    "start_time": "2023-03-15T11:41:20.017Z"
   },
   {
    "duration": 3,
    "start_time": "2023-03-15T11:46:15.672Z"
   },
   {
    "duration": 372,
    "start_time": "2023-03-15T11:46:15.678Z"
   },
   {
    "duration": 151,
    "start_time": "2023-03-15T11:46:16.052Z"
   },
   {
    "duration": 306,
    "start_time": "2023-03-15T11:46:16.205Z"
   },
   {
    "duration": 8,
    "start_time": "2023-03-15T11:46:16.513Z"
   },
   {
    "duration": 5,
    "start_time": "2023-03-15T11:46:16.523Z"
   },
   {
    "duration": 94,
    "start_time": "2023-03-15T11:46:16.529Z"
   },
   {
    "duration": 4,
    "start_time": "2023-03-15T11:46:16.626Z"
   },
   {
    "duration": 117,
    "start_time": "2023-03-15T11:46:16.632Z"
   },
   {
    "duration": 4,
    "start_time": "2023-03-15T11:46:16.751Z"
   },
   {
    "duration": 176,
    "start_time": "2023-03-15T11:46:16.756Z"
   },
   {
    "duration": 81,
    "start_time": "2023-03-15T11:46:24.539Z"
   },
   {
    "duration": 3,
    "start_time": "2023-03-15T11:46:24.735Z"
   },
   {
    "duration": 4,
    "start_time": "2023-03-15T11:49:05.308Z"
   },
   {
    "duration": 526,
    "start_time": "2023-03-15T11:49:05.709Z"
   },
   {
    "duration": 689,
    "start_time": "2023-03-15T11:49:06.237Z"
   },
   {
    "duration": 498,
    "start_time": "2023-03-15T11:49:06.929Z"
   },
   {
    "duration": 5,
    "start_time": "2023-03-15T11:55:48.209Z"
   },
   {
    "duration": 5,
    "start_time": "2023-03-15T13:44:36.696Z"
   },
   {
    "duration": 8,
    "start_time": "2023-03-15T14:07:44.014Z"
   },
   {
    "duration": 1699,
    "start_time": "2023-03-15T14:07:46.080Z"
   },
   {
    "duration": 4,
    "start_time": "2023-03-15T14:07:56.803Z"
   },
   {
    "duration": 383,
    "start_time": "2023-03-15T14:07:56.809Z"
   },
   {
    "duration": 159,
    "start_time": "2023-03-15T14:07:57.193Z"
   },
   {
    "duration": 342,
    "start_time": "2023-03-15T14:07:57.355Z"
   },
   {
    "duration": 3,
    "start_time": "2023-03-15T14:07:57.699Z"
   },
   {
    "duration": 17,
    "start_time": "2023-03-15T14:07:57.704Z"
   },
   {
    "duration": 36,
    "start_time": "2023-03-15T14:07:57.723Z"
   },
   {
    "duration": 7,
    "start_time": "2023-03-15T14:07:57.822Z"
   },
   {
    "duration": 119,
    "start_time": "2023-03-15T14:07:57.831Z"
   },
   {
    "duration": 69,
    "start_time": "2023-03-15T14:07:57.954Z"
   },
   {
    "duration": 118,
    "start_time": "2023-03-15T14:07:58.025Z"
   },
   {
    "duration": 5,
    "start_time": "2023-03-15T14:07:58.145Z"
   },
   {
    "duration": 4,
    "start_time": "2023-03-15T14:07:58.221Z"
   },
   {
    "duration": 395,
    "start_time": "2023-03-15T14:07:58.230Z"
   },
   {
    "duration": 495,
    "start_time": "2023-03-15T14:07:58.629Z"
   },
   {
    "duration": 399,
    "start_time": "2023-03-15T14:07:59.129Z"
   },
   {
    "duration": 6,
    "start_time": "2023-03-15T14:07:59.530Z"
   },
   {
    "duration": 7,
    "start_time": "2023-03-15T14:07:59.626Z"
   },
   {
    "duration": 5,
    "start_time": "2023-03-15T14:07:59.720Z"
   },
   {
    "duration": 5,
    "start_time": "2023-03-15T14:07:59.727Z"
   },
   {
    "duration": 6,
    "start_time": "2023-03-15T14:07:59.734Z"
   },
   {
    "duration": 4,
    "start_time": "2023-03-15T14:07:59.742Z"
   },
   {
    "duration": 5,
    "start_time": "2023-03-15T14:07:59.748Z"
   },
   {
    "duration": 12,
    "start_time": "2023-03-15T14:07:59.755Z"
   },
   {
    "duration": 10,
    "start_time": "2023-03-15T14:07:59.769Z"
   },
   {
    "duration": 53,
    "start_time": "2023-03-15T14:07:59.781Z"
   },
   {
    "duration": 148,
    "start_time": "2023-03-15T14:07:59.836Z"
   },
   {
    "duration": 8,
    "start_time": "2023-03-15T14:07:59.987Z"
   },
   {
    "duration": 1641,
    "start_time": "2023-03-15T14:07:59.997Z"
   },
   {
    "duration": 1589,
    "start_time": "2023-03-15T14:08:01.641Z"
   },
   {
    "duration": 1542,
    "start_time": "2023-03-15T14:08:03.232Z"
   },
   {
    "duration": 4,
    "start_time": "2023-03-15T14:13:05.528Z"
   },
   {
    "duration": 418,
    "start_time": "2023-03-15T14:13:05.534Z"
   },
   {
    "duration": 184,
    "start_time": "2023-03-15T14:13:05.954Z"
   },
   {
    "duration": 297,
    "start_time": "2023-03-15T14:13:06.140Z"
   },
   {
    "duration": 3,
    "start_time": "2023-03-15T14:13:06.438Z"
   },
   {
    "duration": 11,
    "start_time": "2023-03-15T14:13:06.442Z"
   },
   {
    "duration": 69,
    "start_time": "2023-03-15T14:13:06.455Z"
   },
   {
    "duration": 95,
    "start_time": "2023-03-15T14:13:06.526Z"
   },
   {
    "duration": 28,
    "start_time": "2023-03-15T14:13:06.623Z"
   },
   {
    "duration": 70,
    "start_time": "2023-03-15T14:13:06.654Z"
   },
   {
    "duration": 114,
    "start_time": "2023-03-15T14:13:06.726Z"
   },
   {
    "duration": 81,
    "start_time": "2023-03-15T14:13:06.843Z"
   },
   {
    "duration": 96,
    "start_time": "2023-03-15T14:13:06.926Z"
   },
   {
    "duration": 400,
    "start_time": "2023-03-15T14:13:07.024Z"
   },
   {
    "duration": 400,
    "start_time": "2023-03-15T14:13:07.425Z"
   },
   {
    "duration": 398,
    "start_time": "2023-03-15T14:13:07.826Z"
   },
   {
    "duration": 6,
    "start_time": "2023-03-15T14:13:08.225Z"
   },
   {
    "duration": 7,
    "start_time": "2023-03-15T14:13:08.322Z"
   },
   {
    "duration": 91,
    "start_time": "2023-03-15T14:13:08.331Z"
   },
   {
    "duration": 13,
    "start_time": "2023-03-15T14:13:08.423Z"
   },
   {
    "duration": 4,
    "start_time": "2023-03-15T14:13:08.437Z"
   },
   {
    "duration": 5,
    "start_time": "2023-03-15T14:13:08.442Z"
   },
   {
    "duration": 9,
    "start_time": "2023-03-15T14:13:08.449Z"
   },
   {
    "duration": 14,
    "start_time": "2023-03-15T14:13:08.459Z"
   },
   {
    "duration": 8,
    "start_time": "2023-03-15T14:13:08.474Z"
   },
   {
    "duration": 8,
    "start_time": "2023-03-15T14:13:08.484Z"
   },
   {
    "duration": 4,
    "start_time": "2023-03-15T14:13:08.521Z"
   },
   {
    "duration": 13,
    "start_time": "2023-03-15T14:13:08.528Z"
   },
   {
    "duration": 1812,
    "start_time": "2023-03-15T14:13:08.543Z"
   },
   {
    "duration": 1667,
    "start_time": "2023-03-15T14:13:10.357Z"
   },
   {
    "duration": 1619,
    "start_time": "2023-03-15T14:13:12.026Z"
   },
   {
    "duration": 4,
    "start_time": "2023-03-15T14:15:05.326Z"
   },
   {
    "duration": 8,
    "start_time": "2023-03-15T14:15:06.115Z"
   },
   {
    "duration": 2147,
    "start_time": "2023-03-15T14:15:07.402Z"
   },
   {
    "duration": 4,
    "start_time": "2023-03-15T14:15:20.954Z"
   },
   {
    "duration": 8,
    "start_time": "2023-03-15T14:15:21.656Z"
   },
   {
    "duration": 1841,
    "start_time": "2023-03-15T14:15:22.502Z"
   },
   {
    "duration": 3,
    "start_time": "2023-03-15T14:18:20.537Z"
   },
   {
    "duration": 8,
    "start_time": "2023-03-15T14:18:21.869Z"
   },
   {
    "duration": 2089,
    "start_time": "2023-03-15T14:18:23.092Z"
   },
   {
    "duration": 3,
    "start_time": "2023-03-15T14:37:40.893Z"
   },
   {
    "duration": 8,
    "start_time": "2023-03-15T14:37:41.519Z"
   },
   {
    "duration": 2197,
    "start_time": "2023-03-15T14:37:42.538Z"
   },
   {
    "duration": 3,
    "start_time": "2023-03-15T14:37:52.709Z"
   },
   {
    "duration": 7,
    "start_time": "2023-03-15T14:37:53.599Z"
   },
   {
    "duration": 1876,
    "start_time": "2023-03-15T14:37:54.507Z"
   },
   {
    "duration": 3,
    "start_time": "2023-03-15T14:37:59.795Z"
   },
   {
    "duration": 367,
    "start_time": "2023-03-15T14:37:59.800Z"
   },
   {
    "duration": 162,
    "start_time": "2023-03-15T14:38:00.168Z"
   },
   {
    "duration": 367,
    "start_time": "2023-03-15T14:38:00.332Z"
   },
   {
    "duration": 2,
    "start_time": "2023-03-15T14:38:00.701Z"
   },
   {
    "duration": 48,
    "start_time": "2023-03-15T14:38:00.705Z"
   },
   {
    "duration": 114,
    "start_time": "2023-03-15T14:38:00.755Z"
   },
   {
    "duration": 153,
    "start_time": "2023-03-15T14:38:00.870Z"
   },
   {
    "duration": 62,
    "start_time": "2023-03-15T14:38:01.025Z"
   },
   {
    "duration": 42,
    "start_time": "2023-03-15T14:38:01.089Z"
   },
   {
    "duration": 44,
    "start_time": "2023-03-15T14:38:01.222Z"
   },
   {
    "duration": 56,
    "start_time": "2023-03-15T14:38:01.268Z"
   },
   {
    "duration": 96,
    "start_time": "2023-03-15T14:38:01.326Z"
   },
   {
    "duration": 413,
    "start_time": "2023-03-15T14:38:01.426Z"
   },
   {
    "duration": 407,
    "start_time": "2023-03-15T14:38:01.922Z"
   },
   {
    "duration": 598,
    "start_time": "2023-03-15T14:38:02.331Z"
   },
   {
    "duration": 90,
    "start_time": "2023-03-15T14:38:02.932Z"
   },
   {
    "duration": 99,
    "start_time": "2023-03-15T14:38:03.024Z"
   },
   {
    "duration": 22,
    "start_time": "2023-03-15T14:38:03.125Z"
   },
   {
    "duration": 23,
    "start_time": "2023-03-15T14:38:03.149Z"
   },
   {
    "duration": 21,
    "start_time": "2023-03-15T14:38:03.173Z"
   },
   {
    "duration": 24,
    "start_time": "2023-03-15T14:38:03.195Z"
   },
   {
    "duration": 27,
    "start_time": "2023-03-15T14:38:03.220Z"
   },
   {
    "duration": 41,
    "start_time": "2023-03-15T14:38:03.249Z"
   },
   {
    "duration": 20,
    "start_time": "2023-03-15T14:38:03.292Z"
   },
   {
    "duration": 28,
    "start_time": "2023-03-15T14:38:03.314Z"
   },
   {
    "duration": 13,
    "start_time": "2023-03-15T14:38:03.344Z"
   },
   {
    "duration": 31,
    "start_time": "2023-03-15T14:38:03.358Z"
   },
   {
    "duration": 1978,
    "start_time": "2023-03-15T14:38:03.391Z"
   },
   {
    "duration": 1863,
    "start_time": "2023-03-15T14:38:05.371Z"
   },
   {
    "duration": 1878,
    "start_time": "2023-03-15T14:38:07.236Z"
   },
   {
    "duration": 4,
    "start_time": "2023-03-15T14:54:46.244Z"
   },
   {
    "duration": 358,
    "start_time": "2023-03-15T14:54:46.250Z"
   },
   {
    "duration": 161,
    "start_time": "2023-03-15T14:54:46.610Z"
   },
   {
    "duration": 297,
    "start_time": "2023-03-15T14:54:46.774Z"
   },
   {
    "duration": 3,
    "start_time": "2023-03-15T14:54:47.073Z"
   },
   {
    "duration": 13,
    "start_time": "2023-03-15T14:54:47.078Z"
   },
   {
    "duration": 32,
    "start_time": "2023-03-15T14:54:47.093Z"
   },
   {
    "duration": 8,
    "start_time": "2023-03-15T14:54:47.127Z"
   },
   {
    "duration": 117,
    "start_time": "2023-03-15T14:54:47.222Z"
   },
   {
    "duration": 5,
    "start_time": "2023-03-15T14:54:47.342Z"
   },
   {
    "duration": 119,
    "start_time": "2023-03-15T14:54:47.422Z"
   },
   {
    "duration": 79,
    "start_time": "2023-03-15T14:54:47.543Z"
   },
   {
    "duration": 4,
    "start_time": "2023-03-15T14:54:47.625Z"
   },
   {
    "duration": 399,
    "start_time": "2023-03-15T14:54:47.630Z"
   },
   {
    "duration": 411,
    "start_time": "2023-03-15T14:54:48.121Z"
   },
   {
    "duration": 590,
    "start_time": "2023-03-15T14:54:48.534Z"
   },
   {
    "duration": 95,
    "start_time": "2023-03-15T14:54:49.126Z"
   },
   {
    "duration": 7,
    "start_time": "2023-03-15T14:54:49.223Z"
   },
   {
    "duration": 7,
    "start_time": "2023-03-15T14:54:49.231Z"
   },
   {
    "duration": 82,
    "start_time": "2023-03-15T14:54:49.240Z"
   },
   {
    "duration": 4,
    "start_time": "2023-03-15T14:54:49.324Z"
   },
   {
    "duration": 6,
    "start_time": "2023-03-15T14:54:49.330Z"
   },
   {
    "duration": 4,
    "start_time": "2023-03-15T14:54:49.338Z"
   },
   {
    "duration": 11,
    "start_time": "2023-03-15T14:54:49.344Z"
   },
   {
    "duration": 8,
    "start_time": "2023-03-15T14:54:49.357Z"
   },
   {
    "duration": 8,
    "start_time": "2023-03-15T14:54:49.366Z"
   },
   {
    "duration": 4,
    "start_time": "2023-03-15T14:54:49.376Z"
   },
   {
    "duration": 9,
    "start_time": "2023-03-15T14:54:49.424Z"
   },
   {
    "duration": 1794,
    "start_time": "2023-03-15T14:54:49.434Z"
   },
   {
    "duration": 1683,
    "start_time": "2023-03-15T14:54:51.230Z"
   },
   {
    "duration": 1722,
    "start_time": "2023-03-15T14:54:52.921Z"
   },
   {
    "duration": 2198,
    "start_time": "2023-03-16T03:18:41.359Z"
   },
   {
    "duration": 643,
    "start_time": "2023-03-16T03:18:43.560Z"
   },
   {
    "duration": 156,
    "start_time": "2023-03-16T03:18:44.207Z"
   },
   {
    "duration": 341,
    "start_time": "2023-03-16T03:18:44.365Z"
   },
   {
    "duration": 3,
    "start_time": "2023-03-16T03:18:44.707Z"
   },
   {
    "duration": 10,
    "start_time": "2023-03-16T03:18:44.712Z"
   },
   {
    "duration": 157,
    "start_time": "2023-03-16T03:18:44.724Z"
   },
   {
    "duration": 5,
    "start_time": "2023-03-16T03:18:44.883Z"
   },
   {
    "duration": 116,
    "start_time": "2023-03-16T03:18:44.892Z"
   },
   {
    "duration": 5,
    "start_time": "2023-03-16T03:18:45.010Z"
   },
   {
    "duration": 125,
    "start_time": "2023-03-16T03:18:45.083Z"
   },
   {
    "duration": 69,
    "start_time": "2023-03-16T03:18:45.213Z"
   },
   {
    "duration": 98,
    "start_time": "2023-03-16T03:18:45.284Z"
   },
   {
    "duration": 497,
    "start_time": "2023-03-16T03:18:45.384Z"
   },
   {
    "duration": 507,
    "start_time": "2023-03-16T03:18:45.883Z"
   },
   {
    "duration": 496,
    "start_time": "2023-03-16T03:18:46.392Z"
   },
   {
    "duration": 93,
    "start_time": "2023-03-16T03:18:46.893Z"
   },
   {
    "duration": 176,
    "start_time": "2023-03-16T03:18:46.989Z"
   },
   {
    "duration": 7,
    "start_time": "2023-03-16T03:18:47.167Z"
   },
   {
    "duration": 15,
    "start_time": "2023-03-16T03:18:47.175Z"
   },
   {
    "duration": 10,
    "start_time": "2023-03-16T03:18:47.191Z"
   },
   {
    "duration": 10,
    "start_time": "2023-03-16T03:18:47.203Z"
   },
   {
    "duration": 12,
    "start_time": "2023-03-16T03:18:47.215Z"
   },
   {
    "duration": 25,
    "start_time": "2023-03-16T03:18:47.228Z"
   },
   {
    "duration": 9,
    "start_time": "2023-03-16T03:18:47.255Z"
   },
   {
    "duration": 11,
    "start_time": "2023-03-16T03:18:47.266Z"
   },
   {
    "duration": 4,
    "start_time": "2023-03-16T03:18:47.282Z"
   },
   {
    "duration": 18,
    "start_time": "2023-03-16T03:18:47.288Z"
   },
   {
    "duration": 1680,
    "start_time": "2023-03-16T03:18:47.309Z"
   },
   {
    "duration": 1798,
    "start_time": "2023-03-16T03:18:48.991Z"
   },
   {
    "duration": 1711,
    "start_time": "2023-03-16T03:18:50.790Z"
   }
  ],
  "kernelspec": {
   "display_name": "Python 3",
   "language": "python",
   "name": "python3"
  },
  "language_info": {
   "codemirror_mode": {
    "name": "ipython",
    "version": 3
   },
   "file_extension": ".py",
   "mimetype": "text/x-python",
   "name": "python",
   "nbconvert_exporter": "python",
   "pygments_lexer": "ipython3",
   "version": "3.9.12"
  },
  "toc": {
   "base_numbering": 1,
   "nav_menu": {},
   "number_sections": true,
   "sideBar": true,
   "skip_h1_title": true,
   "title_cell": "Table of Contents",
   "title_sidebar": "Contents",
   "toc_cell": false,
   "toc_position": {},
   "toc_section_display": true,
   "toc_window_display": true
  }
 },
 "nbformat": 4,
 "nbformat_minor": 2
}
